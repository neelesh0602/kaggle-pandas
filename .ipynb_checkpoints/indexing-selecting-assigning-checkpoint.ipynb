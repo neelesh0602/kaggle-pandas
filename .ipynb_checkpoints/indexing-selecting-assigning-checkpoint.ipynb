{
 "cells": [
  {
   "cell_type": "markdown",
   "id": "420ed55b",
   "metadata": {
    "papermill": {
     "duration": 0.013662,
     "end_time": "2022-11-07T00:17:53.902537",
     "exception": false,
     "start_time": "2022-11-07T00:17:53.888875",
     "status": "completed"
    },
    "tags": []
   },
   "source": [
    "# Introduction\n",
    "\n",
    "Selecting specific values of a pandas DataFrame or Series to work on is an implicit step in almost any data operation you'll run, so one of the first things you need to learn in working with data in Python is how to go about selecting the data points relevant to you quickly and effectively."
   ]
  },
  {
   "cell_type": "code",
   "execution_count": 3,
   "id": "3e9e0268",
   "metadata": {
    "_kg_hide-input": true,
    "execution": {
     "iopub.execute_input": "2022-11-07T00:17:53.927657Z",
     "iopub.status.busy": "2022-11-07T00:17:53.927054Z",
     "iopub.status.idle": "2022-11-07T00:17:55.649995Z",
     "shell.execute_reply": "2022-11-07T00:17:55.648888Z"
    },
    "papermill": {
     "duration": 1.73947,
     "end_time": "2022-11-07T00:17:55.652880",
     "exception": false,
     "start_time": "2022-11-07T00:17:53.913410",
     "status": "completed"
    },
    "tags": []
   },
   "outputs": [],
   "source": [
    "\n",
    "import pandas as pd\n",
    "reviews = pd.read_csv(\"winemag-data-130k-v2.csv\", index_col=0)\n",
    "#pd.set_option('max_rows', 5)"
   ]
  },
  {
   "cell_type": "markdown",
   "id": "d252446b",
   "metadata": {
    "papermill": {
     "duration": 0.011181,
     "end_time": "2022-11-07T00:17:55.673726",
     "exception": false,
     "start_time": "2022-11-07T00:17:55.662545",
     "status": "completed"
    },
    "tags": []
   },
   "source": [
    "**To start the exercise for this topic, please click [here](https://www.kaggle.com/kernels/fork/587910).**"
   ]
  },
  {
   "cell_type": "markdown",
   "id": "74d62630",
   "metadata": {
    "papermill": {
     "duration": 0.009073,
     "end_time": "2022-11-07T00:17:55.692122",
     "exception": false,
     "start_time": "2022-11-07T00:17:55.683049",
     "status": "completed"
    },
    "tags": []
   },
   "source": [
    "# Native accessors\n",
    "\n",
    "Native Python objects provide  good ways of indexing data. Pandas carries all of these over, which helps make it easy to start with.\n",
    "\n",
    "Consider this DataFrame:"
   ]
  },
  {
   "cell_type": "code",
   "execution_count": 4,
   "id": "f83baa6d",
   "metadata": {
    "execution": {
     "iopub.execute_input": "2022-11-07T00:17:55.712592Z",
     "iopub.status.busy": "2022-11-07T00:17:55.712153Z",
     "iopub.status.idle": "2022-11-07T00:17:55.742882Z",
     "shell.execute_reply": "2022-11-07T00:17:55.741715Z"
    },
    "papermill": {
     "duration": 0.044542,
     "end_time": "2022-11-07T00:17:55.746025",
     "exception": false,
     "start_time": "2022-11-07T00:17:55.701483",
     "status": "completed"
    },
    "tags": []
   },
   "outputs": [
    {
     "data": {
      "text/html": [
       "<div>\n",
       "<style scoped>\n",
       "    .dataframe tbody tr th:only-of-type {\n",
       "        vertical-align: middle;\n",
       "    }\n",
       "\n",
       "    .dataframe tbody tr th {\n",
       "        vertical-align: top;\n",
       "    }\n",
       "\n",
       "    .dataframe thead th {\n",
       "        text-align: right;\n",
       "    }\n",
       "</style>\n",
       "<table border=\"1\" class=\"dataframe\">\n",
       "  <thead>\n",
       "    <tr style=\"text-align: right;\">\n",
       "      <th></th>\n",
       "      <th>country</th>\n",
       "      <th>description</th>\n",
       "      <th>designation</th>\n",
       "      <th>points</th>\n",
       "      <th>price</th>\n",
       "      <th>province</th>\n",
       "      <th>region_1</th>\n",
       "      <th>region_2</th>\n",
       "      <th>taster_name</th>\n",
       "      <th>taster_twitter_handle</th>\n",
       "      <th>title</th>\n",
       "      <th>variety</th>\n",
       "      <th>winery</th>\n",
       "    </tr>\n",
       "  </thead>\n",
       "  <tbody>\n",
       "    <tr>\n",
       "      <th>0</th>\n",
       "      <td>Italy</td>\n",
       "      <td>Aromas include tropical fruit, broom, brimston...</td>\n",
       "      <td>Vulkà Bianco</td>\n",
       "      <td>87</td>\n",
       "      <td>NaN</td>\n",
       "      <td>Sicily &amp; Sardinia</td>\n",
       "      <td>Etna</td>\n",
       "      <td>NaN</td>\n",
       "      <td>Kerin O’Keefe</td>\n",
       "      <td>@kerinokeefe</td>\n",
       "      <td>Nicosia 2013 Vulkà Bianco  (Etna)</td>\n",
       "      <td>White Blend</td>\n",
       "      <td>Nicosia</td>\n",
       "    </tr>\n",
       "    <tr>\n",
       "      <th>1</th>\n",
       "      <td>Portugal</td>\n",
       "      <td>This is ripe and fruity, a wine that is smooth...</td>\n",
       "      <td>Avidagos</td>\n",
       "      <td>87</td>\n",
       "      <td>15.0</td>\n",
       "      <td>Douro</td>\n",
       "      <td>NaN</td>\n",
       "      <td>NaN</td>\n",
       "      <td>Roger Voss</td>\n",
       "      <td>@vossroger</td>\n",
       "      <td>Quinta dos Avidagos 2011 Avidagos Red (Douro)</td>\n",
       "      <td>Portuguese Red</td>\n",
       "      <td>Quinta dos Avidagos</td>\n",
       "    </tr>\n",
       "    <tr>\n",
       "      <th>2</th>\n",
       "      <td>US</td>\n",
       "      <td>Tart and snappy, the flavors of lime flesh and...</td>\n",
       "      <td>NaN</td>\n",
       "      <td>87</td>\n",
       "      <td>14.0</td>\n",
       "      <td>Oregon</td>\n",
       "      <td>Willamette Valley</td>\n",
       "      <td>Willamette Valley</td>\n",
       "      <td>Paul Gregutt</td>\n",
       "      <td>@paulgwine</td>\n",
       "      <td>Rainstorm 2013 Pinot Gris (Willamette Valley)</td>\n",
       "      <td>Pinot Gris</td>\n",
       "      <td>Rainstorm</td>\n",
       "    </tr>\n",
       "    <tr>\n",
       "      <th>3</th>\n",
       "      <td>US</td>\n",
       "      <td>Pineapple rind, lemon pith and orange blossom ...</td>\n",
       "      <td>Reserve Late Harvest</td>\n",
       "      <td>87</td>\n",
       "      <td>13.0</td>\n",
       "      <td>Michigan</td>\n",
       "      <td>Lake Michigan Shore</td>\n",
       "      <td>NaN</td>\n",
       "      <td>Alexander Peartree</td>\n",
       "      <td>NaN</td>\n",
       "      <td>St. Julian 2013 Reserve Late Harvest Riesling ...</td>\n",
       "      <td>Riesling</td>\n",
       "      <td>St. Julian</td>\n",
       "    </tr>\n",
       "    <tr>\n",
       "      <th>4</th>\n",
       "      <td>US</td>\n",
       "      <td>Much like the regular bottling from 2012, this...</td>\n",
       "      <td>Vintner's Reserve Wild Child Block</td>\n",
       "      <td>87</td>\n",
       "      <td>65.0</td>\n",
       "      <td>Oregon</td>\n",
       "      <td>Willamette Valley</td>\n",
       "      <td>Willamette Valley</td>\n",
       "      <td>Paul Gregutt</td>\n",
       "      <td>@paulgwine</td>\n",
       "      <td>Sweet Cheeks 2012 Vintner's Reserve Wild Child...</td>\n",
       "      <td>Pinot Noir</td>\n",
       "      <td>Sweet Cheeks</td>\n",
       "    </tr>\n",
       "    <tr>\n",
       "      <th>...</th>\n",
       "      <td>...</td>\n",
       "      <td>...</td>\n",
       "      <td>...</td>\n",
       "      <td>...</td>\n",
       "      <td>...</td>\n",
       "      <td>...</td>\n",
       "      <td>...</td>\n",
       "      <td>...</td>\n",
       "      <td>...</td>\n",
       "      <td>...</td>\n",
       "      <td>...</td>\n",
       "      <td>...</td>\n",
       "      <td>...</td>\n",
       "    </tr>\n",
       "    <tr>\n",
       "      <th>129966</th>\n",
       "      <td>Germany</td>\n",
       "      <td>Notes of honeysuckle and cantaloupe sweeten th...</td>\n",
       "      <td>Brauneberger Juffer-Sonnenuhr Spätlese</td>\n",
       "      <td>90</td>\n",
       "      <td>28.0</td>\n",
       "      <td>Mosel</td>\n",
       "      <td>NaN</td>\n",
       "      <td>NaN</td>\n",
       "      <td>Anna Lee C. Iijima</td>\n",
       "      <td>NaN</td>\n",
       "      <td>Dr. H. Thanisch (Erben Müller-Burggraef) 2013 ...</td>\n",
       "      <td>Riesling</td>\n",
       "      <td>Dr. H. Thanisch (Erben Müller-Burggraef)</td>\n",
       "    </tr>\n",
       "    <tr>\n",
       "      <th>129967</th>\n",
       "      <td>US</td>\n",
       "      <td>Citation is given as much as a decade of bottl...</td>\n",
       "      <td>NaN</td>\n",
       "      <td>90</td>\n",
       "      <td>75.0</td>\n",
       "      <td>Oregon</td>\n",
       "      <td>Oregon</td>\n",
       "      <td>Oregon Other</td>\n",
       "      <td>Paul Gregutt</td>\n",
       "      <td>@paulgwine</td>\n",
       "      <td>Citation 2004 Pinot Noir (Oregon)</td>\n",
       "      <td>Pinot Noir</td>\n",
       "      <td>Citation</td>\n",
       "    </tr>\n",
       "    <tr>\n",
       "      <th>129968</th>\n",
       "      <td>France</td>\n",
       "      <td>Well-drained gravel soil gives this wine its c...</td>\n",
       "      <td>Kritt</td>\n",
       "      <td>90</td>\n",
       "      <td>30.0</td>\n",
       "      <td>Alsace</td>\n",
       "      <td>Alsace</td>\n",
       "      <td>NaN</td>\n",
       "      <td>Roger Voss</td>\n",
       "      <td>@vossroger</td>\n",
       "      <td>Domaine Gresser 2013 Kritt Gewurztraminer (Als...</td>\n",
       "      <td>Gewürztraminer</td>\n",
       "      <td>Domaine Gresser</td>\n",
       "    </tr>\n",
       "    <tr>\n",
       "      <th>129969</th>\n",
       "      <td>France</td>\n",
       "      <td>A dry style of Pinot Gris, this is crisp with ...</td>\n",
       "      <td>NaN</td>\n",
       "      <td>90</td>\n",
       "      <td>32.0</td>\n",
       "      <td>Alsace</td>\n",
       "      <td>Alsace</td>\n",
       "      <td>NaN</td>\n",
       "      <td>Roger Voss</td>\n",
       "      <td>@vossroger</td>\n",
       "      <td>Domaine Marcel Deiss 2012 Pinot Gris (Alsace)</td>\n",
       "      <td>Pinot Gris</td>\n",
       "      <td>Domaine Marcel Deiss</td>\n",
       "    </tr>\n",
       "    <tr>\n",
       "      <th>129970</th>\n",
       "      <td>France</td>\n",
       "      <td>Big, rich and off-dry, this is powered by inte...</td>\n",
       "      <td>Lieu-dit Harth Cuvée Caroline</td>\n",
       "      <td>90</td>\n",
       "      <td>21.0</td>\n",
       "      <td>Alsace</td>\n",
       "      <td>Alsace</td>\n",
       "      <td>NaN</td>\n",
       "      <td>Roger Voss</td>\n",
       "      <td>@vossroger</td>\n",
       "      <td>Domaine Schoffit 2012 Lieu-dit Harth Cuvée Car...</td>\n",
       "      <td>Gewürztraminer</td>\n",
       "      <td>Domaine Schoffit</td>\n",
       "    </tr>\n",
       "  </tbody>\n",
       "</table>\n",
       "<p>129971 rows × 13 columns</p>\n",
       "</div>"
      ],
      "text/plain": [
       "         country                                        description  \\\n",
       "0          Italy  Aromas include tropical fruit, broom, brimston...   \n",
       "1       Portugal  This is ripe and fruity, a wine that is smooth...   \n",
       "2             US  Tart and snappy, the flavors of lime flesh and...   \n",
       "3             US  Pineapple rind, lemon pith and orange blossom ...   \n",
       "4             US  Much like the regular bottling from 2012, this...   \n",
       "...          ...                                                ...   \n",
       "129966   Germany  Notes of honeysuckle and cantaloupe sweeten th...   \n",
       "129967        US  Citation is given as much as a decade of bottl...   \n",
       "129968    France  Well-drained gravel soil gives this wine its c...   \n",
       "129969    France  A dry style of Pinot Gris, this is crisp with ...   \n",
       "129970    France  Big, rich and off-dry, this is powered by inte...   \n",
       "\n",
       "                                   designation  points  price  \\\n",
       "0                                 Vulkà Bianco      87    NaN   \n",
       "1                                     Avidagos      87   15.0   \n",
       "2                                          NaN      87   14.0   \n",
       "3                         Reserve Late Harvest      87   13.0   \n",
       "4           Vintner's Reserve Wild Child Block      87   65.0   \n",
       "...                                        ...     ...    ...   \n",
       "129966  Brauneberger Juffer-Sonnenuhr Spätlese      90   28.0   \n",
       "129967                                     NaN      90   75.0   \n",
       "129968                                   Kritt      90   30.0   \n",
       "129969                                     NaN      90   32.0   \n",
       "129970           Lieu-dit Harth Cuvée Caroline      90   21.0   \n",
       "\n",
       "                 province             region_1           region_2  \\\n",
       "0       Sicily & Sardinia                 Etna                NaN   \n",
       "1                   Douro                  NaN                NaN   \n",
       "2                  Oregon    Willamette Valley  Willamette Valley   \n",
       "3                Michigan  Lake Michigan Shore                NaN   \n",
       "4                  Oregon    Willamette Valley  Willamette Valley   \n",
       "...                   ...                  ...                ...   \n",
       "129966              Mosel                  NaN                NaN   \n",
       "129967             Oregon               Oregon       Oregon Other   \n",
       "129968             Alsace               Alsace                NaN   \n",
       "129969             Alsace               Alsace                NaN   \n",
       "129970             Alsace               Alsace                NaN   \n",
       "\n",
       "               taster_name taster_twitter_handle  \\\n",
       "0            Kerin O’Keefe          @kerinokeefe   \n",
       "1               Roger Voss            @vossroger   \n",
       "2             Paul Gregutt           @paulgwine    \n",
       "3       Alexander Peartree                   NaN   \n",
       "4             Paul Gregutt           @paulgwine    \n",
       "...                    ...                   ...   \n",
       "129966  Anna Lee C. Iijima                   NaN   \n",
       "129967        Paul Gregutt           @paulgwine    \n",
       "129968          Roger Voss            @vossroger   \n",
       "129969          Roger Voss            @vossroger   \n",
       "129970          Roger Voss            @vossroger   \n",
       "\n",
       "                                                    title         variety  \\\n",
       "0                       Nicosia 2013 Vulkà Bianco  (Etna)     White Blend   \n",
       "1           Quinta dos Avidagos 2011 Avidagos Red (Douro)  Portuguese Red   \n",
       "2           Rainstorm 2013 Pinot Gris (Willamette Valley)      Pinot Gris   \n",
       "3       St. Julian 2013 Reserve Late Harvest Riesling ...        Riesling   \n",
       "4       Sweet Cheeks 2012 Vintner's Reserve Wild Child...      Pinot Noir   \n",
       "...                                                   ...             ...   \n",
       "129966  Dr. H. Thanisch (Erben Müller-Burggraef) 2013 ...        Riesling   \n",
       "129967                  Citation 2004 Pinot Noir (Oregon)      Pinot Noir   \n",
       "129968  Domaine Gresser 2013 Kritt Gewurztraminer (Als...  Gewürztraminer   \n",
       "129969      Domaine Marcel Deiss 2012 Pinot Gris (Alsace)      Pinot Gris   \n",
       "129970  Domaine Schoffit 2012 Lieu-dit Harth Cuvée Car...  Gewürztraminer   \n",
       "\n",
       "                                          winery  \n",
       "0                                        Nicosia  \n",
       "1                            Quinta dos Avidagos  \n",
       "2                                      Rainstorm  \n",
       "3                                     St. Julian  \n",
       "4                                   Sweet Cheeks  \n",
       "...                                          ...  \n",
       "129966  Dr. H. Thanisch (Erben Müller-Burggraef)  \n",
       "129967                                  Citation  \n",
       "129968                           Domaine Gresser  \n",
       "129969                      Domaine Marcel Deiss  \n",
       "129970                          Domaine Schoffit  \n",
       "\n",
       "[129971 rows x 13 columns]"
      ]
     },
     "execution_count": 4,
     "metadata": {},
     "output_type": "execute_result"
    }
   ],
   "source": [
    "reviews"
   ]
  },
  {
   "cell_type": "markdown",
   "id": "08f9a318",
   "metadata": {
    "papermill": {
     "duration": 0.00954,
     "end_time": "2022-11-07T00:17:55.765506",
     "exception": false,
     "start_time": "2022-11-07T00:17:55.755966",
     "status": "completed"
    },
    "tags": []
   },
   "source": [
    "In Python, we can access the property of an object by accessing it as an attribute. A `book` object, for example, might have a `title` property, which we can access by calling `book.title`. Columns in a pandas DataFrame work in much the same way. \n",
    "\n",
    "Hence to access the `country` property of `reviews` we can use:"
   ]
  },
  {
   "cell_type": "code",
   "execution_count": null,
   "id": "85710fa5",
   "metadata": {
    "execution": {
     "iopub.execute_input": "2022-11-07T00:17:55.786610Z",
     "iopub.status.busy": "2022-11-07T00:17:55.786230Z",
     "iopub.status.idle": "2022-11-07T00:17:55.796563Z",
     "shell.execute_reply": "2022-11-07T00:17:55.795608Z"
    },
    "papermill": {
     "duration": 0.023476,
     "end_time": "2022-11-07T00:17:55.798780",
     "exception": false,
     "start_time": "2022-11-07T00:17:55.775304",
     "status": "completed"
    },
    "tags": []
   },
   "outputs": [],
   "source": [
    "reviews.country"
   ]
  },
  {
   "cell_type": "markdown",
   "id": "72a867a9",
   "metadata": {
    "papermill": {
     "duration": 0.010122,
     "end_time": "2022-11-07T00:17:55.818936",
     "exception": false,
     "start_time": "2022-11-07T00:17:55.808814",
     "status": "completed"
    },
    "tags": []
   },
   "source": [
    "If we have a Python dictionary, we can access its values using the indexing (`[]`) operator. We can do the same with columns in a DataFrame:"
   ]
  },
  {
   "cell_type": "code",
   "execution_count": null,
   "id": "f4ff416f",
   "metadata": {
    "execution": {
     "iopub.execute_input": "2022-11-07T00:17:55.841146Z",
     "iopub.status.busy": "2022-11-07T00:17:55.840640Z",
     "iopub.status.idle": "2022-11-07T00:17:55.849525Z",
     "shell.execute_reply": "2022-11-07T00:17:55.848414Z"
    },
    "papermill": {
     "duration": 0.022312,
     "end_time": "2022-11-07T00:17:55.851704",
     "exception": false,
     "start_time": "2022-11-07T00:17:55.829392",
     "status": "completed"
    },
    "tags": []
   },
   "outputs": [],
   "source": [
    "reviews['country']"
   ]
  },
  {
   "cell_type": "markdown",
   "id": "eb8339ed",
   "metadata": {
    "papermill": {
     "duration": 0.009616,
     "end_time": "2022-11-07T00:17:55.871168",
     "exception": false,
     "start_time": "2022-11-07T00:17:55.861552",
     "status": "completed"
    },
    "tags": []
   },
   "source": [
    "These are the two ways of selecting a specific Series out of a DataFrame. Neither of them is more or less syntactically valid than the other, but the indexing operator `[]` does have the advantage that it can handle column names with reserved characters in them (e.g. if we had a `country providence` column, `reviews.country providence` wouldn't work).\n",
    "\n",
    "Doesn't a pandas Series look kind of like a fancy dictionary? It pretty much is, so it's no surprise that, to drill down to a single specific value, we need only use the indexing operator `[]` once more:"
   ]
  },
  {
   "cell_type": "code",
   "execution_count": null,
   "id": "1894beb3",
   "metadata": {
    "execution": {
     "iopub.execute_input": "2022-11-07T00:17:55.892854Z",
     "iopub.status.busy": "2022-11-07T00:17:55.892444Z",
     "iopub.status.idle": "2022-11-07T00:17:55.902373Z",
     "shell.execute_reply": "2022-11-07T00:17:55.901351Z"
    },
    "papermill": {
     "duration": 0.023562,
     "end_time": "2022-11-07T00:17:55.904598",
     "exception": false,
     "start_time": "2022-11-07T00:17:55.881036",
     "status": "completed"
    },
    "tags": []
   },
   "outputs": [],
   "source": [
    "reviews['country'][0]"
   ]
  },
  {
   "cell_type": "markdown",
   "id": "91f3ff9f",
   "metadata": {
    "papermill": {
     "duration": 0.010027,
     "end_time": "2022-11-07T00:17:55.924489",
     "exception": false,
     "start_time": "2022-11-07T00:17:55.914462",
     "status": "completed"
    },
    "tags": []
   },
   "source": [
    "# Indexing in pandas\n",
    "\n",
    "The indexing operator and attribute selection are nice because they work just like they do in the rest of the Python ecosystem. As a novice, this makes them easy to pick up and use. However, pandas has its own accessor operators, `loc` and `iloc`. For more advanced operations, these are the ones you're supposed to be using.\n",
    "\n",
    "### Index-based selection\n",
    "\n",
    "Pandas indexing works in one of two paradigms. The first is **index-based selection**: selecting data based on its numerical position in the data. `iloc` follows this paradigm.\n",
    "\n",
    "To select the first row of data in a DataFrame, we may use the following:"
   ]
  },
  {
   "cell_type": "code",
   "execution_count": null,
   "id": "41e78584",
   "metadata": {
    "execution": {
     "iopub.execute_input": "2022-11-07T00:17:55.945786Z",
     "iopub.status.busy": "2022-11-07T00:17:55.945372Z",
     "iopub.status.idle": "2022-11-07T00:17:55.954315Z",
     "shell.execute_reply": "2022-11-07T00:17:55.953418Z"
    },
    "papermill": {
     "duration": 0.02193,
     "end_time": "2022-11-07T00:17:55.956328",
     "exception": false,
     "start_time": "2022-11-07T00:17:55.934398",
     "status": "completed"
    },
    "tags": []
   },
   "outputs": [],
   "source": [
    "reviews.iloc[0]"
   ]
  },
  {
   "cell_type": "markdown",
   "id": "3cc40ffe",
   "metadata": {
    "papermill": {
     "duration": 0.009893,
     "end_time": "2022-11-07T00:17:55.976362",
     "exception": false,
     "start_time": "2022-11-07T00:17:55.966469",
     "status": "completed"
    },
    "tags": []
   },
   "source": [
    "Both `loc` and `iloc` are row-first, column-second. This is the opposite of what we do in native Python, which is column-first, row-second.\n",
    "\n",
    "This means that it's marginally easier to retrieve rows, and marginally harder to get retrieve columns. To get a column with `iloc`, we can do the following:"
   ]
  },
  {
   "cell_type": "code",
   "execution_count": null,
   "id": "48348adf",
   "metadata": {
    "execution": {
     "iopub.execute_input": "2022-11-07T00:17:55.998459Z",
     "iopub.status.busy": "2022-11-07T00:17:55.998033Z",
     "iopub.status.idle": "2022-11-07T00:17:56.006570Z",
     "shell.execute_reply": "2022-11-07T00:17:56.005514Z"
    },
    "papermill": {
     "duration": 0.022327,
     "end_time": "2022-11-07T00:17:56.008824",
     "exception": false,
     "start_time": "2022-11-07T00:17:55.986497",
     "status": "completed"
    },
    "tags": []
   },
   "outputs": [],
   "source": [
    "reviews.iloc[:, 0]"
   ]
  },
  {
   "cell_type": "markdown",
   "id": "9dcf4241",
   "metadata": {
    "papermill": {
     "duration": 0.010335,
     "end_time": "2022-11-07T00:17:56.029520",
     "exception": false,
     "start_time": "2022-11-07T00:17:56.019185",
     "status": "completed"
    },
    "tags": []
   },
   "source": [
    "On its own, the `:` operator, which also comes from native Python, means \"everything\". When combined with other selectors, however, it can be used to indicate a range of values. For example, to select the `country` column from just the first, second, and third row, we would do:"
   ]
  },
  {
   "cell_type": "code",
   "execution_count": null,
   "id": "a6c7764f",
   "metadata": {
    "execution": {
     "iopub.execute_input": "2022-11-07T00:17:56.051902Z",
     "iopub.status.busy": "2022-11-07T00:17:56.051506Z",
     "iopub.status.idle": "2022-11-07T00:17:56.060537Z",
     "shell.execute_reply": "2022-11-07T00:17:56.059378Z"
    },
    "papermill": {
     "duration": 0.022947,
     "end_time": "2022-11-07T00:17:56.062766",
     "exception": false,
     "start_time": "2022-11-07T00:17:56.039819",
     "status": "completed"
    },
    "tags": []
   },
   "outputs": [],
   "source": [
    "reviews.iloc[:3, 0]"
   ]
  },
  {
   "cell_type": "markdown",
   "id": "eefb7984",
   "metadata": {
    "papermill": {
     "duration": 0.010504,
     "end_time": "2022-11-07T00:17:56.084402",
     "exception": false,
     "start_time": "2022-11-07T00:17:56.073898",
     "status": "completed"
    },
    "tags": []
   },
   "source": [
    "Or, to select just the second and third entries, we would do:"
   ]
  },
  {
   "cell_type": "code",
   "execution_count": null,
   "id": "2649ac47",
   "metadata": {
    "execution": {
     "iopub.execute_input": "2022-11-07T00:17:56.106803Z",
     "iopub.status.busy": "2022-11-07T00:17:56.106441Z",
     "iopub.status.idle": "2022-11-07T00:17:56.113804Z",
     "shell.execute_reply": "2022-11-07T00:17:56.112927Z"
    },
    "papermill": {
     "duration": 0.02124,
     "end_time": "2022-11-07T00:17:56.115982",
     "exception": false,
     "start_time": "2022-11-07T00:17:56.094742",
     "status": "completed"
    },
    "tags": []
   },
   "outputs": [],
   "source": [
    "reviews.iloc[1:3, 0]"
   ]
  },
  {
   "cell_type": "markdown",
   "id": "e4efb303",
   "metadata": {
    "papermill": {
     "duration": 0.010133,
     "end_time": "2022-11-07T00:17:56.136789",
     "exception": false,
     "start_time": "2022-11-07T00:17:56.126656",
     "status": "completed"
    },
    "tags": []
   },
   "source": [
    "It's also possible to pass a list:"
   ]
  },
  {
   "cell_type": "code",
   "execution_count": null,
   "id": "240982ca",
   "metadata": {
    "execution": {
     "iopub.execute_input": "2022-11-07T00:17:56.158897Z",
     "iopub.status.busy": "2022-11-07T00:17:56.158515Z",
     "iopub.status.idle": "2022-11-07T00:17:56.166802Z",
     "shell.execute_reply": "2022-11-07T00:17:56.165770Z"
    },
    "papermill": {
     "duration": 0.022005,
     "end_time": "2022-11-07T00:17:56.168858",
     "exception": false,
     "start_time": "2022-11-07T00:17:56.146853",
     "status": "completed"
    },
    "tags": []
   },
   "outputs": [],
   "source": [
    "reviews.iloc[[0, 1, 2], 0]"
   ]
  },
  {
   "cell_type": "markdown",
   "id": "6d473f8c",
   "metadata": {
    "papermill": {
     "duration": 0.010464,
     "end_time": "2022-11-07T00:17:56.190107",
     "exception": false,
     "start_time": "2022-11-07T00:17:56.179643",
     "status": "completed"
    },
    "tags": []
   },
   "source": [
    "Finally, it's worth knowing that negative numbers can be used in selection. This will start counting forwards from the _end_ of the values. So for example here are the last five elements of the dataset."
   ]
  },
  {
   "cell_type": "code",
   "execution_count": null,
   "id": "1e27adb8",
   "metadata": {
    "execution": {
     "iopub.execute_input": "2022-11-07T00:17:56.212929Z",
     "iopub.status.busy": "2022-11-07T00:17:56.212518Z",
     "iopub.status.idle": "2022-11-07T00:17:56.232610Z",
     "shell.execute_reply": "2022-11-07T00:17:56.231401Z"
    },
    "papermill": {
     "duration": 0.034398,
     "end_time": "2022-11-07T00:17:56.234974",
     "exception": false,
     "start_time": "2022-11-07T00:17:56.200576",
     "status": "completed"
    },
    "tags": []
   },
   "outputs": [],
   "source": [
    "reviews.iloc[-5:]"
   ]
  },
  {
   "cell_type": "markdown",
   "id": "e277d70e",
   "metadata": {
    "papermill": {
     "duration": 0.010759,
     "end_time": "2022-11-07T00:17:56.257145",
     "exception": false,
     "start_time": "2022-11-07T00:17:56.246386",
     "status": "completed"
    },
    "tags": []
   },
   "source": [
    "### Label-based selection\n",
    "\n",
    "The second paradigm for attribute selection is the one followed by the `loc` operator: **label-based selection**. In this paradigm, it's the data index value, not its position, which matters.\n",
    "\n",
    "For example, to get the first entry in `reviews`, we would now do the following:"
   ]
  },
  {
   "cell_type": "code",
   "execution_count": null,
   "id": "918591c9",
   "metadata": {
    "execution": {
     "iopub.execute_input": "2022-11-07T00:17:56.280778Z",
     "iopub.status.busy": "2022-11-07T00:17:56.280351Z",
     "iopub.status.idle": "2022-11-07T00:17:56.287380Z",
     "shell.execute_reply": "2022-11-07T00:17:56.286247Z"
    },
    "papermill": {
     "duration": 0.021365,
     "end_time": "2022-11-07T00:17:56.289399",
     "exception": false,
     "start_time": "2022-11-07T00:17:56.268034",
     "status": "completed"
    },
    "tags": []
   },
   "outputs": [],
   "source": [
    "reviews.loc[0, 'country']"
   ]
  },
  {
   "cell_type": "markdown",
   "id": "b5707c27",
   "metadata": {
    "papermill": {
     "duration": 0.010365,
     "end_time": "2022-11-07T00:17:56.310540",
     "exception": false,
     "start_time": "2022-11-07T00:17:56.300175",
     "status": "completed"
    },
    "tags": []
   },
   "source": [
    "`iloc` is conceptually simpler than `loc` because it ignores the dataset's indices. When we use `iloc` we treat the dataset like a big matrix (a list of lists), one that we have to index into by position. `loc`, by contrast, uses the information in the indices to do its work. Since your dataset usually has meaningful indices, it's usually easier to do things using `loc` instead. For example, here's one operation that's much easier using `loc`:"
   ]
  },
  {
   "cell_type": "code",
   "execution_count": null,
   "id": "dc4b3350",
   "metadata": {
    "execution": {
     "iopub.execute_input": "2022-11-07T00:17:56.333768Z",
     "iopub.status.busy": "2022-11-07T00:17:56.333391Z",
     "iopub.status.idle": "2022-11-07T00:17:56.350633Z",
     "shell.execute_reply": "2022-11-07T00:17:56.349754Z"
    },
    "papermill": {
     "duration": 0.031633,
     "end_time": "2022-11-07T00:17:56.352845",
     "exception": false,
     "start_time": "2022-11-07T00:17:56.321212",
     "status": "completed"
    },
    "tags": []
   },
   "outputs": [],
   "source": [
    "reviews.loc[:, ['taster_name', 'taster_twitter_handle', 'points']]"
   ]
  },
  {
   "cell_type": "markdown",
   "id": "38291343",
   "metadata": {
    "papermill": {
     "duration": 0.010934,
     "end_time": "2022-11-07T00:17:56.375343",
     "exception": false,
     "start_time": "2022-11-07T00:17:56.364409",
     "status": "completed"
    },
    "tags": []
   },
   "source": [
    "### Choosing between `loc` and `iloc`\n",
    "\n",
    "When choosing or transitioning between `loc` and `iloc`, there is one \"gotcha\" worth keeping in mind, which is that the two methods use slightly different indexing schemes.\n",
    "\n",
    "`iloc` uses the Python stdlib indexing scheme, where the first element of the range is included and the last one excluded. So `0:10` will select entries `0,...,9`. `loc`, meanwhile, indexes inclusively. So `0:10` will select entries `0,...,10`.\n",
    "\n",
    "Why the change? Remember that loc can index any stdlib type: strings, for example. If we have a DataFrame with index values `Apples, ..., Potatoes, ...`, and we want to select \"all the alphabetical fruit choices between Apples and Potatoes\", then it's a lot more convenient to index `df.loc['Apples':'Potatoes']` than it is to index something like `df.loc['Apples', 'Potatoet']` (`t` coming after `s` in the alphabet).\n",
    "\n",
    "This is particularly confusing when the DataFrame index is a simple numerical list, e.g. `0,...,1000`. In this case `df.iloc[0:1000]` will return 1000 entries, while `df.loc[0:1000]` return 1001 of them! To get 1000 elements using `loc`, you will need to go one lower and ask for `df.loc[0:999]`. \n",
    "\n",
    "Otherwise, the semantics of using `loc` are the same as those for `iloc`."
   ]
  },
  {
   "cell_type": "markdown",
   "id": "4c963ea9",
   "metadata": {
    "papermill": {
     "duration": 0.010934,
     "end_time": "2022-11-07T00:17:56.397591",
     "exception": false,
     "start_time": "2022-11-07T00:17:56.386657",
     "status": "completed"
    },
    "tags": []
   },
   "source": [
    "# Manipulating the index\n",
    "\n",
    "Label-based selection derives its power from the labels in the index. Critically, the index we use is not immutable. We can manipulate the index in any way we see fit.\n",
    "\n",
    "The `set_index()` method can be used to do the job. Here is what happens when we `set_index` to the `title` field:"
   ]
  },
  {
   "cell_type": "code",
   "execution_count": null,
   "id": "e5850638",
   "metadata": {
    "execution": {
     "iopub.execute_input": "2022-11-07T00:17:56.422122Z",
     "iopub.status.busy": "2022-11-07T00:17:56.421333Z",
     "iopub.status.idle": "2022-11-07T00:17:56.468424Z",
     "shell.execute_reply": "2022-11-07T00:17:56.467320Z"
    },
    "papermill": {
     "duration": 0.061958,
     "end_time": "2022-11-07T00:17:56.470732",
     "exception": false,
     "start_time": "2022-11-07T00:17:56.408774",
     "status": "completed"
    },
    "tags": []
   },
   "outputs": [],
   "source": [
    "reviews.set_index(\"title\")"
   ]
  },
  {
   "cell_type": "markdown",
   "id": "c33b9305",
   "metadata": {
    "papermill": {
     "duration": 0.011575,
     "end_time": "2022-11-07T00:17:56.494323",
     "exception": false,
     "start_time": "2022-11-07T00:17:56.482748",
     "status": "completed"
    },
    "tags": []
   },
   "source": [
    "This is useful if you can come up with an index for the dataset which is better than the current one."
   ]
  },
  {
   "cell_type": "markdown",
   "id": "56508e21",
   "metadata": {
    "papermill": {
     "duration": 0.011403,
     "end_time": "2022-11-07T00:17:56.517620",
     "exception": false,
     "start_time": "2022-11-07T00:17:56.506217",
     "status": "completed"
    },
    "tags": []
   },
   "source": [
    "# Conditional selection\n",
    "\n",
    "So far we've been indexing various strides of data, using structural properties of the DataFrame itself. To do *interesting* things with the data, however, we often need to ask questions based on conditions. \n",
    "\n",
    "For example, suppose that we're interested specifically in better-than-average wines produced in Italy.\n",
    "\n",
    "We can start by checking if each wine is Italian or not:"
   ]
  },
  {
   "cell_type": "code",
   "execution_count": null,
   "id": "d88a4b74",
   "metadata": {
    "execution": {
     "iopub.execute_input": "2022-11-07T00:17:56.543814Z",
     "iopub.status.busy": "2022-11-07T00:17:56.543363Z",
     "iopub.status.idle": "2022-11-07T00:17:56.561917Z",
     "shell.execute_reply": "2022-11-07T00:17:56.560572Z"
    },
    "papermill": {
     "duration": 0.034762,
     "end_time": "2022-11-07T00:17:56.564277",
     "exception": false,
     "start_time": "2022-11-07T00:17:56.529515",
     "status": "completed"
    },
    "tags": []
   },
   "outputs": [],
   "source": [
    "reviews.country == 'Italy'"
   ]
  },
  {
   "cell_type": "markdown",
   "id": "bc147871",
   "metadata": {
    "papermill": {
     "duration": 0.011654,
     "end_time": "2022-11-07T00:17:56.588097",
     "exception": false,
     "start_time": "2022-11-07T00:17:56.576443",
     "status": "completed"
    },
    "tags": []
   },
   "source": [
    "This operation produced a Series of `True`/`False` booleans based on the `country` of each record.  This result can then be used inside of `loc` to select the relevant data:"
   ]
  },
  {
   "cell_type": "code",
   "execution_count": null,
   "id": "773ef0f8",
   "metadata": {
    "execution": {
     "iopub.execute_input": "2022-11-07T00:17:56.613894Z",
     "iopub.status.busy": "2022-11-07T00:17:56.613446Z",
     "iopub.status.idle": "2022-11-07T00:17:56.651571Z",
     "shell.execute_reply": "2022-11-07T00:17:56.650404Z"
    },
    "papermill": {
     "duration": 0.054086,
     "end_time": "2022-11-07T00:17:56.654181",
     "exception": false,
     "start_time": "2022-11-07T00:17:56.600095",
     "status": "completed"
    },
    "tags": []
   },
   "outputs": [],
   "source": [
    "reviews.loc[reviews.country == 'Italy']"
   ]
  },
  {
   "cell_type": "markdown",
   "id": "6da9da2c",
   "metadata": {
    "papermill": {
     "duration": 0.011775,
     "end_time": "2022-11-07T00:17:56.678229",
     "exception": false,
     "start_time": "2022-11-07T00:17:56.666454",
     "status": "completed"
    },
    "tags": []
   },
   "source": [
    "This DataFrame has ~20,000 rows. The original had ~130,000. That means that around 15% of wines originate from Italy.\n",
    "\n",
    "We also wanted to know which ones are better than average. Wines are reviewed on a 80-to-100 point scale, so this could mean wines that accrued at least 90 points.\n",
    "\n",
    "We can use the ampersand (`&`) to bring the two questions together:"
   ]
  },
  {
   "cell_type": "code",
   "execution_count": null,
   "id": "ea9b0caf",
   "metadata": {
    "execution": {
     "iopub.execute_input": "2022-11-07T00:17:56.704446Z",
     "iopub.status.busy": "2022-11-07T00:17:56.704045Z",
     "iopub.status.idle": "2022-11-07T00:17:56.740170Z",
     "shell.execute_reply": "2022-11-07T00:17:56.739040Z"
    },
    "papermill": {
     "duration": 0.052261,
     "end_time": "2022-11-07T00:17:56.742591",
     "exception": false,
     "start_time": "2022-11-07T00:17:56.690330",
     "status": "completed"
    },
    "tags": []
   },
   "outputs": [],
   "source": [
    "reviews.loc[(reviews.country == 'Italy') & (reviews.points >= 90)]"
   ]
  },
  {
   "cell_type": "markdown",
   "id": "8f8cf544",
   "metadata": {
    "papermill": {
     "duration": 0.012096,
     "end_time": "2022-11-07T00:17:56.767193",
     "exception": false,
     "start_time": "2022-11-07T00:17:56.755097",
     "status": "completed"
    },
    "tags": []
   },
   "source": [
    "Suppose we'll buy any wine that's made in Italy _or_ which is rated above average. For this we use a pipe (`|`):"
   ]
  },
  {
   "cell_type": "code",
   "execution_count": null,
   "id": "0882ef3b",
   "metadata": {
    "execution": {
     "iopub.execute_input": "2022-11-07T00:17:56.793878Z",
     "iopub.status.busy": "2022-11-07T00:17:56.793492Z",
     "iopub.status.idle": "2022-11-07T00:17:56.841172Z",
     "shell.execute_reply": "2022-11-07T00:17:56.839832Z"
    },
    "papermill": {
     "duration": 0.064298,
     "end_time": "2022-11-07T00:17:56.843899",
     "exception": false,
     "start_time": "2022-11-07T00:17:56.779601",
     "status": "completed"
    },
    "tags": []
   },
   "outputs": [],
   "source": [
    "reviews.loc[(reviews.country == 'Italy') | (reviews.points >= 90)]"
   ]
  },
  {
   "cell_type": "markdown",
   "id": "b0767aec",
   "metadata": {
    "papermill": {
     "duration": 0.012631,
     "end_time": "2022-11-07T00:17:56.869622",
     "exception": false,
     "start_time": "2022-11-07T00:17:56.856991",
     "status": "completed"
    },
    "tags": []
   },
   "source": [
    "Pandas comes with a few built-in conditional selectors, two of which we will highlight here. \n",
    "\n",
    "The first is `isin`. `isin` is lets you select data whose value \"is in\" a list of values. For example, here's how we can use it to select wines only from Italy or France:"
   ]
  },
  {
   "cell_type": "code",
   "execution_count": null,
   "id": "17cb9695",
   "metadata": {
    "execution": {
     "iopub.execute_input": "2022-11-07T00:17:56.897788Z",
     "iopub.status.busy": "2022-11-07T00:17:56.897370Z",
     "iopub.status.idle": "2022-11-07T00:17:56.935988Z",
     "shell.execute_reply": "2022-11-07T00:17:56.935166Z"
    },
    "papermill": {
     "duration": 0.055323,
     "end_time": "2022-11-07T00:17:56.938171",
     "exception": false,
     "start_time": "2022-11-07T00:17:56.882848",
     "status": "completed"
    },
    "tags": []
   },
   "outputs": [],
   "source": [
    "reviews.loc[reviews.country.isin(['Italy', 'France'])]"
   ]
  },
  {
   "cell_type": "markdown",
   "id": "bc2a37fb",
   "metadata": {
    "papermill": {
     "duration": 0.01298,
     "end_time": "2022-11-07T00:17:56.964568",
     "exception": false,
     "start_time": "2022-11-07T00:17:56.951588",
     "status": "completed"
    },
    "tags": []
   },
   "source": [
    "The second is `isnull` (and its companion `notnull`). These methods let you highlight values which are (or are not) empty (`NaN`). For example, to filter out wines lacking a price tag in the dataset, here's what we would do:"
   ]
  },
  {
   "cell_type": "code",
   "execution_count": null,
   "id": "bbbe1d12",
   "metadata": {
    "execution": {
     "iopub.execute_input": "2022-11-07T00:17:56.992780Z",
     "iopub.status.busy": "2022-11-07T00:17:56.992377Z",
     "iopub.status.idle": "2022-11-07T00:17:57.044365Z",
     "shell.execute_reply": "2022-11-07T00:17:57.043207Z"
    },
    "papermill": {
     "duration": 0.069372,
     "end_time": "2022-11-07T00:17:57.047006",
     "exception": false,
     "start_time": "2022-11-07T00:17:56.977634",
     "status": "completed"
    },
    "tags": []
   },
   "outputs": [],
   "source": [
    "reviews.loc[reviews.price.notnull()]"
   ]
  },
  {
   "cell_type": "markdown",
   "id": "839f32b5",
   "metadata": {
    "papermill": {
     "duration": 0.013842,
     "end_time": "2022-11-07T00:17:57.074402",
     "exception": false,
     "start_time": "2022-11-07T00:17:57.060560",
     "status": "completed"
    },
    "tags": []
   },
   "source": [
    "# Assigning data\n",
    "\n",
    "Going the other way, assigning data to a DataFrame is easy. You can assign either a constant value:"
   ]
  },
  {
   "cell_type": "code",
   "execution_count": null,
   "id": "7a16b65c",
   "metadata": {
    "execution": {
     "iopub.execute_input": "2022-11-07T00:17:57.103955Z",
     "iopub.status.busy": "2022-11-07T00:17:57.103071Z",
     "iopub.status.idle": "2022-11-07T00:17:57.112791Z",
     "shell.execute_reply": "2022-11-07T00:17:57.112094Z"
    },
    "papermill": {
     "duration": 0.026846,
     "end_time": "2022-11-07T00:17:57.114978",
     "exception": false,
     "start_time": "2022-11-07T00:17:57.088132",
     "status": "completed"
    },
    "tags": []
   },
   "outputs": [],
   "source": [
    "reviews['critic'] = 'everyone'\n",
    "reviews['critic']"
   ]
  },
  {
   "cell_type": "markdown",
   "id": "08065309",
   "metadata": {
    "papermill": {
     "duration": 0.013182,
     "end_time": "2022-11-07T00:17:57.142108",
     "exception": false,
     "start_time": "2022-11-07T00:17:57.128926",
     "status": "completed"
    },
    "tags": []
   },
   "source": [
    "Or with an iterable of values:"
   ]
  },
  {
   "cell_type": "code",
   "execution_count": null,
   "id": "0d715882",
   "metadata": {
    "execution": {
     "iopub.execute_input": "2022-11-07T00:17:57.170804Z",
     "iopub.status.busy": "2022-11-07T00:17:57.170371Z",
     "iopub.status.idle": "2022-11-07T00:17:57.180032Z",
     "shell.execute_reply": "2022-11-07T00:17:57.179067Z"
    },
    "papermill": {
     "duration": 0.026887,
     "end_time": "2022-11-07T00:17:57.182171",
     "exception": false,
     "start_time": "2022-11-07T00:17:57.155284",
     "status": "completed"
    },
    "tags": []
   },
   "outputs": [],
   "source": [
    "reviews['index_backwards'] = range(len(reviews), 0, -1)\n",
    "reviews['index_backwards']"
   ]
  },
  {
   "cell_type": "markdown",
   "id": "9731b922",
   "metadata": {
    "papermill": {
     "duration": 0.013239,
     "end_time": "2022-11-07T00:17:57.209050",
     "exception": false,
     "start_time": "2022-11-07T00:17:57.195811",
     "status": "completed"
    },
    "tags": []
   },
   "source": [
    "# Your turn\n",
    "\n",
    "If you haven't started the exercise, you can **[get started here](https://www.kaggle.com/kernels/fork/587910)**."
   ]
  },
  {
   "cell_type": "markdown",
   "id": "82961c7f",
   "metadata": {
    "papermill": {
     "duration": 0.013104,
     "end_time": "2022-11-07T00:17:57.235612",
     "exception": false,
     "start_time": "2022-11-07T00:17:57.222508",
     "status": "completed"
    },
    "tags": []
   },
   "source": [
    "---\n",
    "\n",
    "\n",
    "\n",
    "\n",
    "*Have questions or comments? Visit the [course discussion forum](https://www.kaggle.com/learn/pandas/discussion) to chat with other learners.*"
   ]
  }
 ],
 "metadata": {
  "kernelspec": {
   "display_name": "Python 3 (ipykernel)",
   "language": "python",
   "name": "python3"
  },
  "language_info": {
   "codemirror_mode": {
    "name": "ipython",
    "version": 3
   },
   "file_extension": ".py",
   "mimetype": "text/x-python",
   "name": "python",
   "nbconvert_exporter": "python",
   "pygments_lexer": "ipython3",
   "version": "3.9.12"
  },
  "papermill": {
   "default_parameters": {},
   "duration": 13.796156,
   "end_time": "2022-11-07T00:17:57.971835",
   "environment_variables": {},
   "exception": null,
   "input_path": "__notebook__.ipynb",
   "output_path": "__notebook__.ipynb",
   "parameters": {},
   "start_time": "2022-11-07T00:17:44.175679",
   "version": "2.3.4"
  }
 },
 "nbformat": 4,
 "nbformat_minor": 5
}
