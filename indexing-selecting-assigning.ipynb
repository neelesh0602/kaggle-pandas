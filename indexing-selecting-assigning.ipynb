{
 "cells": [
  {
   "cell_type": "markdown",
   "id": "c2c187e1",
   "metadata": {
    "papermill": {
     "duration": 0.010946,
     "end_time": "2022-11-06T08:41:48.345927",
     "exception": false,
     "start_time": "2022-11-06T08:41:48.334981",
     "status": "completed"
    },
    "tags": []
   },
   "source": [
    "# Introduction\n",
    "\n",
    "Selecting specific values of a pandas DataFrame or Series to work on is an implicit step in almost any data operation you'll run, so one of the first things you need to learn in working with data in Python is how to go about selecting the data points relevant to you quickly and effectively."
   ]
  },
  {
   "cell_type": "code",
   "execution_count": 1,
   "id": "79477f01",
   "metadata": {
    "_kg_hide-input": true,
    "execution": {
     "iopub.execute_input": "2022-11-06T08:41:48.368066Z",
     "iopub.status.busy": "2022-11-06T08:41:48.367254Z",
     "iopub.status.idle": "2022-11-06T08:41:50.178077Z",
     "shell.execute_reply": "2022-11-06T08:41:50.175369Z"
    },
    "papermill": {
     "duration": 1.825728,
     "end_time": "2022-11-06T08:41:50.181848",
     "exception": false,
     "start_time": "2022-11-06T08:41:48.356120",
     "status": "completed"
    },
    "tags": []
   },
   "outputs": [],
   "source": [
    "\n",
    "import pandas as pd\n",
    "reviews = pd.read_csv(\"../input/wine-reviews/winemag-data-130k-v2.csv\", index_col=0)\n",
    "pd.set_option('max_rows', 5)"
   ]
  },
  {
   "cell_type": "markdown",
   "id": "36cc7c59",
   "metadata": {
    "papermill": {
     "duration": 0.01097,
     "end_time": "2022-11-06T08:41:50.204109",
     "exception": false,
     "start_time": "2022-11-06T08:41:50.193139",
     "status": "completed"
    },
    "tags": []
   },
   "source": [
    "**To start the exercise for this topic, please click [here](https://www.kaggle.com/kernels/fork/587910).**"
   ]
  },
  {
   "cell_type": "markdown",
   "id": "f3102e85",
   "metadata": {
    "papermill": {
     "duration": 0.009186,
     "end_time": "2022-11-06T08:41:50.222932",
     "exception": false,
     "start_time": "2022-11-06T08:41:50.213746",
     "status": "completed"
    },
    "tags": []
   },
   "source": [
    "# Native accessors\n",
    "\n",
    "Native Python objects provide  good ways of indexing data. Pandas carries all of these over, which helps make it easy to start with.\n",
    "\n",
    "Consider this DataFrame:"
   ]
  },
  {
   "cell_type": "code",
   "execution_count": 2,
   "id": "815ac68c",
   "metadata": {
    "execution": {
     "iopub.execute_input": "2022-11-06T08:41:50.243610Z",
     "iopub.status.busy": "2022-11-06T08:41:50.243170Z",
     "iopub.status.idle": "2022-11-06T08:41:50.273021Z",
     "shell.execute_reply": "2022-11-06T08:41:50.272010Z"
    },
    "papermill": {
     "duration": 0.043354,
     "end_time": "2022-11-06T08:41:50.275805",
     "exception": false,
     "start_time": "2022-11-06T08:41:50.232451",
     "status": "completed"
    },
    "tags": []
   },
   "outputs": [
    {
     "data": {
      "text/html": [
       "<div>\n",
       "<style scoped>\n",
       "    .dataframe tbody tr th:only-of-type {\n",
       "        vertical-align: middle;\n",
       "    }\n",
       "\n",
       "    .dataframe tbody tr th {\n",
       "        vertical-align: top;\n",
       "    }\n",
       "\n",
       "    .dataframe thead th {\n",
       "        text-align: right;\n",
       "    }\n",
       "</style>\n",
       "<table border=\"1\" class=\"dataframe\">\n",
       "  <thead>\n",
       "    <tr style=\"text-align: right;\">\n",
       "      <th></th>\n",
       "      <th>country</th>\n",
       "      <th>description</th>\n",
       "      <th>designation</th>\n",
       "      <th>points</th>\n",
       "      <th>price</th>\n",
       "      <th>province</th>\n",
       "      <th>region_1</th>\n",
       "      <th>region_2</th>\n",
       "      <th>taster_name</th>\n",
       "      <th>taster_twitter_handle</th>\n",
       "      <th>title</th>\n",
       "      <th>variety</th>\n",
       "      <th>winery</th>\n",
       "    </tr>\n",
       "  </thead>\n",
       "  <tbody>\n",
       "    <tr>\n",
       "      <th>0</th>\n",
       "      <td>Italy</td>\n",
       "      <td>Aromas include tropical fruit, broom, brimston...</td>\n",
       "      <td>Vulkà Bianco</td>\n",
       "      <td>87</td>\n",
       "      <td>NaN</td>\n",
       "      <td>Sicily &amp; Sardinia</td>\n",
       "      <td>Etna</td>\n",
       "      <td>NaN</td>\n",
       "      <td>Kerin O’Keefe</td>\n",
       "      <td>@kerinokeefe</td>\n",
       "      <td>Nicosia 2013 Vulkà Bianco  (Etna)</td>\n",
       "      <td>White Blend</td>\n",
       "      <td>Nicosia</td>\n",
       "    </tr>\n",
       "    <tr>\n",
       "      <th>1</th>\n",
       "      <td>Portugal</td>\n",
       "      <td>This is ripe and fruity, a wine that is smooth...</td>\n",
       "      <td>Avidagos</td>\n",
       "      <td>87</td>\n",
       "      <td>15.0</td>\n",
       "      <td>Douro</td>\n",
       "      <td>NaN</td>\n",
       "      <td>NaN</td>\n",
       "      <td>Roger Voss</td>\n",
       "      <td>@vossroger</td>\n",
       "      <td>Quinta dos Avidagos 2011 Avidagos Red (Douro)</td>\n",
       "      <td>Portuguese Red</td>\n",
       "      <td>Quinta dos Avidagos</td>\n",
       "    </tr>\n",
       "    <tr>\n",
       "      <th>...</th>\n",
       "      <td>...</td>\n",
       "      <td>...</td>\n",
       "      <td>...</td>\n",
       "      <td>...</td>\n",
       "      <td>...</td>\n",
       "      <td>...</td>\n",
       "      <td>...</td>\n",
       "      <td>...</td>\n",
       "      <td>...</td>\n",
       "      <td>...</td>\n",
       "      <td>...</td>\n",
       "      <td>...</td>\n",
       "      <td>...</td>\n",
       "    </tr>\n",
       "    <tr>\n",
       "      <th>129969</th>\n",
       "      <td>France</td>\n",
       "      <td>A dry style of Pinot Gris, this is crisp with ...</td>\n",
       "      <td>NaN</td>\n",
       "      <td>90</td>\n",
       "      <td>32.0</td>\n",
       "      <td>Alsace</td>\n",
       "      <td>Alsace</td>\n",
       "      <td>NaN</td>\n",
       "      <td>Roger Voss</td>\n",
       "      <td>@vossroger</td>\n",
       "      <td>Domaine Marcel Deiss 2012 Pinot Gris (Alsace)</td>\n",
       "      <td>Pinot Gris</td>\n",
       "      <td>Domaine Marcel Deiss</td>\n",
       "    </tr>\n",
       "    <tr>\n",
       "      <th>129970</th>\n",
       "      <td>France</td>\n",
       "      <td>Big, rich and off-dry, this is powered by inte...</td>\n",
       "      <td>Lieu-dit Harth Cuvée Caroline</td>\n",
       "      <td>90</td>\n",
       "      <td>21.0</td>\n",
       "      <td>Alsace</td>\n",
       "      <td>Alsace</td>\n",
       "      <td>NaN</td>\n",
       "      <td>Roger Voss</td>\n",
       "      <td>@vossroger</td>\n",
       "      <td>Domaine Schoffit 2012 Lieu-dit Harth Cuvée Car...</td>\n",
       "      <td>Gewürztraminer</td>\n",
       "      <td>Domaine Schoffit</td>\n",
       "    </tr>\n",
       "  </tbody>\n",
       "</table>\n",
       "<p>129971 rows × 13 columns</p>\n",
       "</div>"
      ],
      "text/plain": [
       "         country                                        description  \\\n",
       "0          Italy  Aromas include tropical fruit, broom, brimston...   \n",
       "1       Portugal  This is ripe and fruity, a wine that is smooth...   \n",
       "...          ...                                                ...   \n",
       "129969    France  A dry style of Pinot Gris, this is crisp with ...   \n",
       "129970    France  Big, rich and off-dry, this is powered by inte...   \n",
       "\n",
       "                          designation  points  price           province  \\\n",
       "0                        Vulkà Bianco      87    NaN  Sicily & Sardinia   \n",
       "1                            Avidagos      87   15.0              Douro   \n",
       "...                               ...     ...    ...                ...   \n",
       "129969                            NaN      90   32.0             Alsace   \n",
       "129970  Lieu-dit Harth Cuvée Caroline      90   21.0             Alsace   \n",
       "\n",
       "       region_1 region_2    taster_name taster_twitter_handle  \\\n",
       "0          Etna      NaN  Kerin O’Keefe          @kerinokeefe   \n",
       "1           NaN      NaN     Roger Voss            @vossroger   \n",
       "...         ...      ...            ...                   ...   \n",
       "129969   Alsace      NaN     Roger Voss            @vossroger   \n",
       "129970   Alsace      NaN     Roger Voss            @vossroger   \n",
       "\n",
       "                                                    title         variety  \\\n",
       "0                       Nicosia 2013 Vulkà Bianco  (Etna)     White Blend   \n",
       "1           Quinta dos Avidagos 2011 Avidagos Red (Douro)  Portuguese Red   \n",
       "...                                                   ...             ...   \n",
       "129969      Domaine Marcel Deiss 2012 Pinot Gris (Alsace)      Pinot Gris   \n",
       "129970  Domaine Schoffit 2012 Lieu-dit Harth Cuvée Car...  Gewürztraminer   \n",
       "\n",
       "                      winery  \n",
       "0                    Nicosia  \n",
       "1        Quinta dos Avidagos  \n",
       "...                      ...  \n",
       "129969  Domaine Marcel Deiss  \n",
       "129970      Domaine Schoffit  \n",
       "\n",
       "[129971 rows x 13 columns]"
      ]
     },
     "execution_count": 2,
     "metadata": {},
     "output_type": "execute_result"
    }
   ],
   "source": [
    "reviews"
   ]
  },
  {
   "cell_type": "markdown",
   "id": "c3691331",
   "metadata": {
    "papermill": {
     "duration": 0.009749,
     "end_time": "2022-11-06T08:41:50.295713",
     "exception": false,
     "start_time": "2022-11-06T08:41:50.285964",
     "status": "completed"
    },
    "tags": []
   },
   "source": [
    "In Python, we can access the property of an object by accessing it as an attribute. A `book` object, for example, might have a `title` property, which we can access by calling `book.title`. Columns in a pandas DataFrame work in much the same way. \n",
    "\n",
    "Hence to access the `country` property of `reviews` we can use:"
   ]
  },
  {
   "cell_type": "code",
   "execution_count": 3,
   "id": "8bd031b6",
   "metadata": {
    "execution": {
     "iopub.execute_input": "2022-11-06T08:41:50.317493Z",
     "iopub.status.busy": "2022-11-06T08:41:50.317078Z",
     "iopub.status.idle": "2022-11-06T08:41:50.326681Z",
     "shell.execute_reply": "2022-11-06T08:41:50.325626Z"
    },
    "papermill": {
     "duration": 0.023355,
     "end_time": "2022-11-06T08:41:50.329027",
     "exception": false,
     "start_time": "2022-11-06T08:41:50.305672",
     "status": "completed"
    },
    "tags": []
   },
   "outputs": [
    {
     "data": {
      "text/plain": [
       "0            Italy\n",
       "1         Portugal\n",
       "            ...   \n",
       "129969      France\n",
       "129970      France\n",
       "Name: country, Length: 129971, dtype: object"
      ]
     },
     "execution_count": 3,
     "metadata": {},
     "output_type": "execute_result"
    }
   ],
   "source": [
    "reviews.country"
   ]
  },
  {
   "cell_type": "markdown",
   "id": "ae62b058",
   "metadata": {
    "papermill": {
     "duration": 0.009928,
     "end_time": "2022-11-06T08:41:50.349143",
     "exception": false,
     "start_time": "2022-11-06T08:41:50.339215",
     "status": "completed"
    },
    "tags": []
   },
   "source": [
    "If we have a Python dictionary, we can access its values using the indexing (`[]`) operator. We can do the same with columns in a DataFrame:"
   ]
  },
  {
   "cell_type": "code",
   "execution_count": 4,
   "id": "a4696e75",
   "metadata": {
    "execution": {
     "iopub.execute_input": "2022-11-06T08:41:50.371194Z",
     "iopub.status.busy": "2022-11-06T08:41:50.370773Z",
     "iopub.status.idle": "2022-11-06T08:41:50.379725Z",
     "shell.execute_reply": "2022-11-06T08:41:50.378557Z"
    },
    "papermill": {
     "duration": 0.022887,
     "end_time": "2022-11-06T08:41:50.382212",
     "exception": false,
     "start_time": "2022-11-06T08:41:50.359325",
     "status": "completed"
    },
    "tags": []
   },
   "outputs": [
    {
     "data": {
      "text/plain": [
       "0            Italy\n",
       "1         Portugal\n",
       "            ...   \n",
       "129969      France\n",
       "129970      France\n",
       "Name: country, Length: 129971, dtype: object"
      ]
     },
     "execution_count": 4,
     "metadata": {},
     "output_type": "execute_result"
    }
   ],
   "source": [
    "reviews['country']"
   ]
  },
  {
   "cell_type": "markdown",
   "id": "624ddf15",
   "metadata": {
    "papermill": {
     "duration": 0.010259,
     "end_time": "2022-11-06T08:41:50.402980",
     "exception": false,
     "start_time": "2022-11-06T08:41:50.392721",
     "status": "completed"
    },
    "tags": []
   },
   "source": [
    "These are the two ways of selecting a specific Series out of a DataFrame. Neither of them is more or less syntactically valid than the other, but the indexing operator `[]` does have the advantage that it can handle column names with reserved characters in them (e.g. if we had a `country providence` column, `reviews.country providence` wouldn't work).\n",
    "\n",
    "Doesn't a pandas Series look kind of like a fancy dictionary? It pretty much is, so it's no surprise that, to drill down to a single specific value, we need only use the indexing operator `[]` once more:"
   ]
  },
  {
   "cell_type": "code",
   "execution_count": 5,
   "id": "fd6d51e7",
   "metadata": {
    "execution": {
     "iopub.execute_input": "2022-11-06T08:41:50.427340Z",
     "iopub.status.busy": "2022-11-06T08:41:50.426103Z",
     "iopub.status.idle": "2022-11-06T08:41:50.437469Z",
     "shell.execute_reply": "2022-11-06T08:41:50.436443Z"
    },
    "papermill": {
     "duration": 0.026002,
     "end_time": "2022-11-06T08:41:50.439859",
     "exception": false,
     "start_time": "2022-11-06T08:41:50.413857",
     "status": "completed"
    },
    "tags": []
   },
   "outputs": [
    {
     "data": {
      "text/plain": [
       "'Italy'"
      ]
     },
     "execution_count": 5,
     "metadata": {},
     "output_type": "execute_result"
    }
   ],
   "source": [
    "reviews['country'][0]"
   ]
  },
  {
   "cell_type": "markdown",
   "id": "ca5a045c",
   "metadata": {
    "papermill": {
     "duration": 0.010209,
     "end_time": "2022-11-06T08:41:50.460416",
     "exception": false,
     "start_time": "2022-11-06T08:41:50.450207",
     "status": "completed"
    },
    "tags": []
   },
   "source": [
    "# Indexing in pandas\n",
    "\n",
    "The indexing operator and attribute selection are nice because they work just like they do in the rest of the Python ecosystem. As a novice, this makes them easy to pick up and use. However, pandas has its own accessor operators, `loc` and `iloc`. For more advanced operations, these are the ones you're supposed to be using.\n",
    "\n",
    "### Index-based selection\n",
    "\n",
    "Pandas indexing works in one of two paradigms. The first is **index-based selection**: selecting data based on its numerical position in the data. `iloc` follows this paradigm.\n",
    "\n",
    "To select the first row of data in a DataFrame, we may use the following:"
   ]
  },
  {
   "cell_type": "code",
   "execution_count": 6,
   "id": "3ff93ca8",
   "metadata": {
    "execution": {
     "iopub.execute_input": "2022-11-06T08:41:50.484090Z",
     "iopub.status.busy": "2022-11-06T08:41:50.483075Z",
     "iopub.status.idle": "2022-11-06T08:41:50.492449Z",
     "shell.execute_reply": "2022-11-06T08:41:50.491512Z"
    },
    "papermill": {
     "duration": 0.023569,
     "end_time": "2022-11-06T08:41:50.494775",
     "exception": false,
     "start_time": "2022-11-06T08:41:50.471206",
     "status": "completed"
    },
    "tags": []
   },
   "outputs": [
    {
     "data": {
      "text/plain": [
       "country                                                    Italy\n",
       "description    Aromas include tropical fruit, broom, brimston...\n",
       "                                     ...                        \n",
       "variety                                              White Blend\n",
       "winery                                                   Nicosia\n",
       "Name: 0, Length: 13, dtype: object"
      ]
     },
     "execution_count": 6,
     "metadata": {},
     "output_type": "execute_result"
    }
   ],
   "source": [
    "reviews.iloc[0]"
   ]
  },
  {
   "cell_type": "markdown",
   "id": "7076aeb6",
   "metadata": {
    "papermill": {
     "duration": 0.010276,
     "end_time": "2022-11-06T08:41:50.515446",
     "exception": false,
     "start_time": "2022-11-06T08:41:50.505170",
     "status": "completed"
    },
    "tags": []
   },
   "source": [
    "Both `loc` and `iloc` are row-first, column-second. This is the opposite of what we do in native Python, which is column-first, row-second.\n",
    "\n",
    "This means that it's marginally easier to retrieve rows, and marginally harder to get retrieve columns. To get a column with `iloc`, we can do the following:"
   ]
  },
  {
   "cell_type": "code",
   "execution_count": 7,
   "id": "246bc952",
   "metadata": {
    "execution": {
     "iopub.execute_input": "2022-11-06T08:41:50.538873Z",
     "iopub.status.busy": "2022-11-06T08:41:50.538082Z",
     "iopub.status.idle": "2022-11-06T08:41:50.546840Z",
     "shell.execute_reply": "2022-11-06T08:41:50.545737Z"
    },
    "papermill": {
     "duration": 0.023123,
     "end_time": "2022-11-06T08:41:50.549117",
     "exception": false,
     "start_time": "2022-11-06T08:41:50.525994",
     "status": "completed"
    },
    "tags": []
   },
   "outputs": [
    {
     "data": {
      "text/plain": [
       "0            Italy\n",
       "1         Portugal\n",
       "            ...   \n",
       "129969      France\n",
       "129970      France\n",
       "Name: country, Length: 129971, dtype: object"
      ]
     },
     "execution_count": 7,
     "metadata": {},
     "output_type": "execute_result"
    }
   ],
   "source": [
    "reviews.iloc[:, 0]"
   ]
  },
  {
   "cell_type": "markdown",
   "id": "7dcd4e69",
   "metadata": {
    "papermill": {
     "duration": 0.010435,
     "end_time": "2022-11-06T08:41:50.570065",
     "exception": false,
     "start_time": "2022-11-06T08:41:50.559630",
     "status": "completed"
    },
    "tags": []
   },
   "source": [
    "On its own, the `:` operator, which also comes from native Python, means \"everything\". When combined with other selectors, however, it can be used to indicate a range of values. For example, to select the `country` column from just the first, second, and third row, we would do:"
   ]
  },
  {
   "cell_type": "code",
   "execution_count": 8,
   "id": "255b9dbb",
   "metadata": {
    "execution": {
     "iopub.execute_input": "2022-11-06T08:41:50.593534Z",
     "iopub.status.busy": "2022-11-06T08:41:50.592736Z",
     "iopub.status.idle": "2022-11-06T08:41:50.601283Z",
     "shell.execute_reply": "2022-11-06T08:41:50.600247Z"
    },
    "papermill": {
     "duration": 0.022977,
     "end_time": "2022-11-06T08:41:50.603618",
     "exception": false,
     "start_time": "2022-11-06T08:41:50.580641",
     "status": "completed"
    },
    "tags": []
   },
   "outputs": [
    {
     "data": {
      "text/plain": [
       "0       Italy\n",
       "1    Portugal\n",
       "2          US\n",
       "Name: country, dtype: object"
      ]
     },
     "execution_count": 8,
     "metadata": {},
     "output_type": "execute_result"
    }
   ],
   "source": [
    "reviews.iloc[:3, 0]"
   ]
  },
  {
   "cell_type": "markdown",
   "id": "7ff0d615",
   "metadata": {
    "papermill": {
     "duration": 0.010446,
     "end_time": "2022-11-06T08:41:50.624820",
     "exception": false,
     "start_time": "2022-11-06T08:41:50.614374",
     "status": "completed"
    },
    "tags": []
   },
   "source": [
    "Or, to select just the second and third entries, we would do:"
   ]
  },
  {
   "cell_type": "code",
   "execution_count": 9,
   "id": "a163aae4",
   "metadata": {
    "execution": {
     "iopub.execute_input": "2022-11-06T08:41:50.650728Z",
     "iopub.status.busy": "2022-11-06T08:41:50.650296Z",
     "iopub.status.idle": "2022-11-06T08:41:50.658408Z",
     "shell.execute_reply": "2022-11-06T08:41:50.657237Z"
    },
    "papermill": {
     "duration": 0.024344,
     "end_time": "2022-11-06T08:41:50.660835",
     "exception": false,
     "start_time": "2022-11-06T08:41:50.636491",
     "status": "completed"
    },
    "tags": []
   },
   "outputs": [
    {
     "data": {
      "text/plain": [
       "1    Portugal\n",
       "2          US\n",
       "Name: country, dtype: object"
      ]
     },
     "execution_count": 9,
     "metadata": {},
     "output_type": "execute_result"
    }
   ],
   "source": [
    "reviews.iloc[1:3, 0]"
   ]
  },
  {
   "cell_type": "markdown",
   "id": "c3ee804b",
   "metadata": {
    "papermill": {
     "duration": 0.011084,
     "end_time": "2022-11-06T08:41:50.687532",
     "exception": false,
     "start_time": "2022-11-06T08:41:50.676448",
     "status": "completed"
    },
    "tags": []
   },
   "source": [
    "It's also possible to pass a list:"
   ]
  },
  {
   "cell_type": "code",
   "execution_count": 10,
   "id": "5e16c90f",
   "metadata": {
    "execution": {
     "iopub.execute_input": "2022-11-06T08:41:50.711868Z",
     "iopub.status.busy": "2022-11-06T08:41:50.711103Z",
     "iopub.status.idle": "2022-11-06T08:41:50.719879Z",
     "shell.execute_reply": "2022-11-06T08:41:50.718955Z"
    },
    "papermill": {
     "duration": 0.023535,
     "end_time": "2022-11-06T08:41:50.722144",
     "exception": false,
     "start_time": "2022-11-06T08:41:50.698609",
     "status": "completed"
    },
    "tags": []
   },
   "outputs": [
    {
     "data": {
      "text/plain": [
       "0       Italy\n",
       "1    Portugal\n",
       "2          US\n",
       "Name: country, dtype: object"
      ]
     },
     "execution_count": 10,
     "metadata": {},
     "output_type": "execute_result"
    }
   ],
   "source": [
    "reviews.iloc[[0, 1, 2], 0]"
   ]
  },
  {
   "cell_type": "markdown",
   "id": "a14213bf",
   "metadata": {
    "papermill": {
     "duration": 0.012782,
     "end_time": "2022-11-06T08:41:50.745904",
     "exception": false,
     "start_time": "2022-11-06T08:41:50.733122",
     "status": "completed"
    },
    "tags": []
   },
   "source": [
    "Finally, it's worth knowing that negative numbers can be used in selection. This will start counting forwards from the _end_ of the values. So for example here are the last five elements of the dataset."
   ]
  },
  {
   "cell_type": "code",
   "execution_count": 11,
   "id": "00db954a",
   "metadata": {
    "execution": {
     "iopub.execute_input": "2022-11-06T08:41:50.770875Z",
     "iopub.status.busy": "2022-11-06T08:41:50.770180Z",
     "iopub.status.idle": "2022-11-06T08:41:50.788628Z",
     "shell.execute_reply": "2022-11-06T08:41:50.787465Z"
    },
    "papermill": {
     "duration": 0.033485,
     "end_time": "2022-11-06T08:41:50.791019",
     "exception": false,
     "start_time": "2022-11-06T08:41:50.757534",
     "status": "completed"
    },
    "tags": []
   },
   "outputs": [
    {
     "data": {
      "text/html": [
       "<div>\n",
       "<style scoped>\n",
       "    .dataframe tbody tr th:only-of-type {\n",
       "        vertical-align: middle;\n",
       "    }\n",
       "\n",
       "    .dataframe tbody tr th {\n",
       "        vertical-align: top;\n",
       "    }\n",
       "\n",
       "    .dataframe thead th {\n",
       "        text-align: right;\n",
       "    }\n",
       "</style>\n",
       "<table border=\"1\" class=\"dataframe\">\n",
       "  <thead>\n",
       "    <tr style=\"text-align: right;\">\n",
       "      <th></th>\n",
       "      <th>country</th>\n",
       "      <th>description</th>\n",
       "      <th>designation</th>\n",
       "      <th>points</th>\n",
       "      <th>price</th>\n",
       "      <th>province</th>\n",
       "      <th>region_1</th>\n",
       "      <th>region_2</th>\n",
       "      <th>taster_name</th>\n",
       "      <th>taster_twitter_handle</th>\n",
       "      <th>title</th>\n",
       "      <th>variety</th>\n",
       "      <th>winery</th>\n",
       "    </tr>\n",
       "  </thead>\n",
       "  <tbody>\n",
       "    <tr>\n",
       "      <th>129966</th>\n",
       "      <td>Germany</td>\n",
       "      <td>Notes of honeysuckle and cantaloupe sweeten th...</td>\n",
       "      <td>Brauneberger Juffer-Sonnenuhr Spätlese</td>\n",
       "      <td>90</td>\n",
       "      <td>28.0</td>\n",
       "      <td>Mosel</td>\n",
       "      <td>NaN</td>\n",
       "      <td>NaN</td>\n",
       "      <td>Anna Lee C. Iijima</td>\n",
       "      <td>NaN</td>\n",
       "      <td>Dr. H. Thanisch (Erben Müller-Burggraef) 2013 ...</td>\n",
       "      <td>Riesling</td>\n",
       "      <td>Dr. H. Thanisch (Erben Müller-Burggraef)</td>\n",
       "    </tr>\n",
       "    <tr>\n",
       "      <th>129967</th>\n",
       "      <td>US</td>\n",
       "      <td>Citation is given as much as a decade of bottl...</td>\n",
       "      <td>NaN</td>\n",
       "      <td>90</td>\n",
       "      <td>75.0</td>\n",
       "      <td>Oregon</td>\n",
       "      <td>Oregon</td>\n",
       "      <td>Oregon Other</td>\n",
       "      <td>Paul Gregutt</td>\n",
       "      <td>@paulgwine</td>\n",
       "      <td>Citation 2004 Pinot Noir (Oregon)</td>\n",
       "      <td>Pinot Noir</td>\n",
       "      <td>Citation</td>\n",
       "    </tr>\n",
       "    <tr>\n",
       "      <th>129968</th>\n",
       "      <td>France</td>\n",
       "      <td>Well-drained gravel soil gives this wine its c...</td>\n",
       "      <td>Kritt</td>\n",
       "      <td>90</td>\n",
       "      <td>30.0</td>\n",
       "      <td>Alsace</td>\n",
       "      <td>Alsace</td>\n",
       "      <td>NaN</td>\n",
       "      <td>Roger Voss</td>\n",
       "      <td>@vossroger</td>\n",
       "      <td>Domaine Gresser 2013 Kritt Gewurztraminer (Als...</td>\n",
       "      <td>Gewürztraminer</td>\n",
       "      <td>Domaine Gresser</td>\n",
       "    </tr>\n",
       "    <tr>\n",
       "      <th>129969</th>\n",
       "      <td>France</td>\n",
       "      <td>A dry style of Pinot Gris, this is crisp with ...</td>\n",
       "      <td>NaN</td>\n",
       "      <td>90</td>\n",
       "      <td>32.0</td>\n",
       "      <td>Alsace</td>\n",
       "      <td>Alsace</td>\n",
       "      <td>NaN</td>\n",
       "      <td>Roger Voss</td>\n",
       "      <td>@vossroger</td>\n",
       "      <td>Domaine Marcel Deiss 2012 Pinot Gris (Alsace)</td>\n",
       "      <td>Pinot Gris</td>\n",
       "      <td>Domaine Marcel Deiss</td>\n",
       "    </tr>\n",
       "    <tr>\n",
       "      <th>129970</th>\n",
       "      <td>France</td>\n",
       "      <td>Big, rich and off-dry, this is powered by inte...</td>\n",
       "      <td>Lieu-dit Harth Cuvée Caroline</td>\n",
       "      <td>90</td>\n",
       "      <td>21.0</td>\n",
       "      <td>Alsace</td>\n",
       "      <td>Alsace</td>\n",
       "      <td>NaN</td>\n",
       "      <td>Roger Voss</td>\n",
       "      <td>@vossroger</td>\n",
       "      <td>Domaine Schoffit 2012 Lieu-dit Harth Cuvée Car...</td>\n",
       "      <td>Gewürztraminer</td>\n",
       "      <td>Domaine Schoffit</td>\n",
       "    </tr>\n",
       "  </tbody>\n",
       "</table>\n",
       "</div>"
      ],
      "text/plain": [
       "        country                                        description  \\\n",
       "129966  Germany  Notes of honeysuckle and cantaloupe sweeten th...   \n",
       "129967       US  Citation is given as much as a decade of bottl...   \n",
       "129968   France  Well-drained gravel soil gives this wine its c...   \n",
       "129969   France  A dry style of Pinot Gris, this is crisp with ...   \n",
       "129970   France  Big, rich and off-dry, this is powered by inte...   \n",
       "\n",
       "                                   designation  points  price province  \\\n",
       "129966  Brauneberger Juffer-Sonnenuhr Spätlese      90   28.0    Mosel   \n",
       "129967                                     NaN      90   75.0   Oregon   \n",
       "129968                                   Kritt      90   30.0   Alsace   \n",
       "129969                                     NaN      90   32.0   Alsace   \n",
       "129970           Lieu-dit Harth Cuvée Caroline      90   21.0   Alsace   \n",
       "\n",
       "       region_1      region_2         taster_name taster_twitter_handle  \\\n",
       "129966      NaN           NaN  Anna Lee C. Iijima                   NaN   \n",
       "129967   Oregon  Oregon Other        Paul Gregutt           @paulgwine    \n",
       "129968   Alsace           NaN          Roger Voss            @vossroger   \n",
       "129969   Alsace           NaN          Roger Voss            @vossroger   \n",
       "129970   Alsace           NaN          Roger Voss            @vossroger   \n",
       "\n",
       "                                                    title         variety  \\\n",
       "129966  Dr. H. Thanisch (Erben Müller-Burggraef) 2013 ...        Riesling   \n",
       "129967                  Citation 2004 Pinot Noir (Oregon)      Pinot Noir   \n",
       "129968  Domaine Gresser 2013 Kritt Gewurztraminer (Als...  Gewürztraminer   \n",
       "129969      Domaine Marcel Deiss 2012 Pinot Gris (Alsace)      Pinot Gris   \n",
       "129970  Domaine Schoffit 2012 Lieu-dit Harth Cuvée Car...  Gewürztraminer   \n",
       "\n",
       "                                          winery  \n",
       "129966  Dr. H. Thanisch (Erben Müller-Burggraef)  \n",
       "129967                                  Citation  \n",
       "129968                           Domaine Gresser  \n",
       "129969                      Domaine Marcel Deiss  \n",
       "129970                          Domaine Schoffit  "
      ]
     },
     "execution_count": 11,
     "metadata": {},
     "output_type": "execute_result"
    }
   ],
   "source": [
    "reviews.iloc[-5:]"
   ]
  },
  {
   "cell_type": "markdown",
   "id": "539aa0a9",
   "metadata": {
    "papermill": {
     "duration": 0.011004,
     "end_time": "2022-11-06T08:41:50.813404",
     "exception": false,
     "start_time": "2022-11-06T08:41:50.802400",
     "status": "completed"
    },
    "tags": []
   },
   "source": [
    "### Label-based selection\n",
    "\n",
    "The second paradigm for attribute selection is the one followed by the `loc` operator: **label-based selection**. In this paradigm, it's the data index value, not its position, which matters.\n",
    "\n",
    "For example, to get the first entry in `reviews`, we would now do the following:"
   ]
  },
  {
   "cell_type": "code",
   "execution_count": 12,
   "id": "256954cf",
   "metadata": {
    "execution": {
     "iopub.execute_input": "2022-11-06T08:41:50.837875Z",
     "iopub.status.busy": "2022-11-06T08:41:50.837197Z",
     "iopub.status.idle": "2022-11-06T08:41:50.843952Z",
     "shell.execute_reply": "2022-11-06T08:41:50.842991Z"
    },
    "papermill": {
     "duration": 0.021512,
     "end_time": "2022-11-06T08:41:50.846080",
     "exception": false,
     "start_time": "2022-11-06T08:41:50.824568",
     "status": "completed"
    },
    "tags": []
   },
   "outputs": [
    {
     "data": {
      "text/plain": [
       "'Italy'"
      ]
     },
     "execution_count": 12,
     "metadata": {},
     "output_type": "execute_result"
    }
   ],
   "source": [
    "reviews.loc[0, 'country']"
   ]
  },
  {
   "cell_type": "markdown",
   "id": "67ca2287",
   "metadata": {
    "papermill": {
     "duration": 0.010815,
     "end_time": "2022-11-06T08:41:50.868085",
     "exception": false,
     "start_time": "2022-11-06T08:41:50.857270",
     "status": "completed"
    },
    "tags": []
   },
   "source": [
    "`iloc` is conceptually simpler than `loc` because it ignores the dataset's indices. When we use `iloc` we treat the dataset like a big matrix (a list of lists), one that we have to index into by position. `loc`, by contrast, uses the information in the indices to do its work. Since your dataset usually has meaningful indices, it's usually easier to do things using `loc` instead. For example, here's one operation that's much easier using `loc`:"
   ]
  },
  {
   "cell_type": "code",
   "execution_count": 13,
   "id": "90b9422c",
   "metadata": {
    "execution": {
     "iopub.execute_input": "2022-11-06T08:41:50.892782Z",
     "iopub.status.busy": "2022-11-06T08:41:50.892114Z",
     "iopub.status.idle": "2022-11-06T08:41:50.909140Z",
     "shell.execute_reply": "2022-11-06T08:41:50.907743Z"
    },
    "papermill": {
     "duration": 0.032423,
     "end_time": "2022-11-06T08:41:50.911790",
     "exception": false,
     "start_time": "2022-11-06T08:41:50.879367",
     "status": "completed"
    },
    "tags": []
   },
   "outputs": [
    {
     "data": {
      "text/html": [
       "<div>\n",
       "<style scoped>\n",
       "    .dataframe tbody tr th:only-of-type {\n",
       "        vertical-align: middle;\n",
       "    }\n",
       "\n",
       "    .dataframe tbody tr th {\n",
       "        vertical-align: top;\n",
       "    }\n",
       "\n",
       "    .dataframe thead th {\n",
       "        text-align: right;\n",
       "    }\n",
       "</style>\n",
       "<table border=\"1\" class=\"dataframe\">\n",
       "  <thead>\n",
       "    <tr style=\"text-align: right;\">\n",
       "      <th></th>\n",
       "      <th>taster_name</th>\n",
       "      <th>taster_twitter_handle</th>\n",
       "      <th>points</th>\n",
       "    </tr>\n",
       "  </thead>\n",
       "  <tbody>\n",
       "    <tr>\n",
       "      <th>0</th>\n",
       "      <td>Kerin O’Keefe</td>\n",
       "      <td>@kerinokeefe</td>\n",
       "      <td>87</td>\n",
       "    </tr>\n",
       "    <tr>\n",
       "      <th>1</th>\n",
       "      <td>Roger Voss</td>\n",
       "      <td>@vossroger</td>\n",
       "      <td>87</td>\n",
       "    </tr>\n",
       "    <tr>\n",
       "      <th>...</th>\n",
       "      <td>...</td>\n",
       "      <td>...</td>\n",
       "      <td>...</td>\n",
       "    </tr>\n",
       "    <tr>\n",
       "      <th>129969</th>\n",
       "      <td>Roger Voss</td>\n",
       "      <td>@vossroger</td>\n",
       "      <td>90</td>\n",
       "    </tr>\n",
       "    <tr>\n",
       "      <th>129970</th>\n",
       "      <td>Roger Voss</td>\n",
       "      <td>@vossroger</td>\n",
       "      <td>90</td>\n",
       "    </tr>\n",
       "  </tbody>\n",
       "</table>\n",
       "<p>129971 rows × 3 columns</p>\n",
       "</div>"
      ],
      "text/plain": [
       "          taster_name taster_twitter_handle  points\n",
       "0       Kerin O’Keefe          @kerinokeefe      87\n",
       "1          Roger Voss            @vossroger      87\n",
       "...               ...                   ...     ...\n",
       "129969     Roger Voss            @vossroger      90\n",
       "129970     Roger Voss            @vossroger      90\n",
       "\n",
       "[129971 rows x 3 columns]"
      ]
     },
     "execution_count": 13,
     "metadata": {},
     "output_type": "execute_result"
    }
   ],
   "source": [
    "reviews.loc[:, ['taster_name', 'taster_twitter_handle', 'points']]"
   ]
  },
  {
   "cell_type": "markdown",
   "id": "4e58f89d",
   "metadata": {
    "papermill": {
     "duration": 0.01125,
     "end_time": "2022-11-06T08:41:50.934865",
     "exception": false,
     "start_time": "2022-11-06T08:41:50.923615",
     "status": "completed"
    },
    "tags": []
   },
   "source": [
    "### Choosing between `loc` and `iloc`\n",
    "\n",
    "When choosing or transitioning between `loc` and `iloc`, there is one \"gotcha\" worth keeping in mind, which is that the two methods use slightly different indexing schemes.\n",
    "\n",
    "`iloc` uses the Python stdlib indexing scheme, where the first element of the range is included and the last one excluded. So `0:10` will select entries `0,...,9`. `loc`, meanwhile, indexes inclusively. So `0:10` will select entries `0,...,10`.\n",
    "\n",
    "Why the change? Remember that loc can index any stdlib type: strings, for example. If we have a DataFrame with index values `Apples, ..., Potatoes, ...`, and we want to select \"all the alphabetical fruit choices between Apples and Potatoes\", then it's a lot more convenient to index `df.loc['Apples':'Potatoes']` than it is to index something like `df.loc['Apples', 'Potatoet']` (`t` coming after `s` in the alphabet).\n",
    "\n",
    "This is particularly confusing when the DataFrame index is a simple numerical list, e.g. `0,...,1000`. In this case `df.iloc[0:1000]` will return 1000 entries, while `df.loc[0:1000]` return 1001 of them! To get 1000 elements using `loc`, you will need to go one lower and ask for `df.loc[0:999]`. \n",
    "\n",
    "Otherwise, the semantics of using `loc` are the same as those for `iloc`."
   ]
  },
  {
   "cell_type": "markdown",
   "id": "a6900eb6",
   "metadata": {
    "papermill": {
     "duration": 0.01139,
     "end_time": "2022-11-06T08:41:50.958097",
     "exception": false,
     "start_time": "2022-11-06T08:41:50.946707",
     "status": "completed"
    },
    "tags": []
   },
   "source": [
    "# Manipulating the index\n",
    "\n",
    "Label-based selection derives its power from the labels in the index. Critically, the index we use is not immutable. We can manipulate the index in any way we see fit.\n",
    "\n",
    "The `set_index()` method can be used to do the job. Here is what happens when we `set_index` to the `title` field:"
   ]
  },
  {
   "cell_type": "code",
   "execution_count": 14,
   "id": "0607a24e",
   "metadata": {
    "execution": {
     "iopub.execute_input": "2022-11-06T08:41:50.983108Z",
     "iopub.status.busy": "2022-11-06T08:41:50.982691Z",
     "iopub.status.idle": "2022-11-06T08:41:51.033120Z",
     "shell.execute_reply": "2022-11-06T08:41:51.031933Z"
    },
    "papermill": {
     "duration": 0.066141,
     "end_time": "2022-11-06T08:41:51.035683",
     "exception": false,
     "start_time": "2022-11-06T08:41:50.969542",
     "status": "completed"
    },
    "tags": []
   },
   "outputs": [
    {
     "data": {
      "text/html": [
       "<div>\n",
       "<style scoped>\n",
       "    .dataframe tbody tr th:only-of-type {\n",
       "        vertical-align: middle;\n",
       "    }\n",
       "\n",
       "    .dataframe tbody tr th {\n",
       "        vertical-align: top;\n",
       "    }\n",
       "\n",
       "    .dataframe thead th {\n",
       "        text-align: right;\n",
       "    }\n",
       "</style>\n",
       "<table border=\"1\" class=\"dataframe\">\n",
       "  <thead>\n",
       "    <tr style=\"text-align: right;\">\n",
       "      <th></th>\n",
       "      <th>country</th>\n",
       "      <th>description</th>\n",
       "      <th>designation</th>\n",
       "      <th>points</th>\n",
       "      <th>price</th>\n",
       "      <th>province</th>\n",
       "      <th>region_1</th>\n",
       "      <th>region_2</th>\n",
       "      <th>taster_name</th>\n",
       "      <th>taster_twitter_handle</th>\n",
       "      <th>variety</th>\n",
       "      <th>winery</th>\n",
       "    </tr>\n",
       "    <tr>\n",
       "      <th>title</th>\n",
       "      <th></th>\n",
       "      <th></th>\n",
       "      <th></th>\n",
       "      <th></th>\n",
       "      <th></th>\n",
       "      <th></th>\n",
       "      <th></th>\n",
       "      <th></th>\n",
       "      <th></th>\n",
       "      <th></th>\n",
       "      <th></th>\n",
       "      <th></th>\n",
       "    </tr>\n",
       "  </thead>\n",
       "  <tbody>\n",
       "    <tr>\n",
       "      <th>Nicosia 2013 Vulkà Bianco  (Etna)</th>\n",
       "      <td>Italy</td>\n",
       "      <td>Aromas include tropical fruit, broom, brimston...</td>\n",
       "      <td>Vulkà Bianco</td>\n",
       "      <td>87</td>\n",
       "      <td>NaN</td>\n",
       "      <td>Sicily &amp; Sardinia</td>\n",
       "      <td>Etna</td>\n",
       "      <td>NaN</td>\n",
       "      <td>Kerin O’Keefe</td>\n",
       "      <td>@kerinokeefe</td>\n",
       "      <td>White Blend</td>\n",
       "      <td>Nicosia</td>\n",
       "    </tr>\n",
       "    <tr>\n",
       "      <th>Quinta dos Avidagos 2011 Avidagos Red (Douro)</th>\n",
       "      <td>Portugal</td>\n",
       "      <td>This is ripe and fruity, a wine that is smooth...</td>\n",
       "      <td>Avidagos</td>\n",
       "      <td>87</td>\n",
       "      <td>15.0</td>\n",
       "      <td>Douro</td>\n",
       "      <td>NaN</td>\n",
       "      <td>NaN</td>\n",
       "      <td>Roger Voss</td>\n",
       "      <td>@vossroger</td>\n",
       "      <td>Portuguese Red</td>\n",
       "      <td>Quinta dos Avidagos</td>\n",
       "    </tr>\n",
       "    <tr>\n",
       "      <th>...</th>\n",
       "      <td>...</td>\n",
       "      <td>...</td>\n",
       "      <td>...</td>\n",
       "      <td>...</td>\n",
       "      <td>...</td>\n",
       "      <td>...</td>\n",
       "      <td>...</td>\n",
       "      <td>...</td>\n",
       "      <td>...</td>\n",
       "      <td>...</td>\n",
       "      <td>...</td>\n",
       "      <td>...</td>\n",
       "    </tr>\n",
       "    <tr>\n",
       "      <th>Domaine Marcel Deiss 2012 Pinot Gris (Alsace)</th>\n",
       "      <td>France</td>\n",
       "      <td>A dry style of Pinot Gris, this is crisp with ...</td>\n",
       "      <td>NaN</td>\n",
       "      <td>90</td>\n",
       "      <td>32.0</td>\n",
       "      <td>Alsace</td>\n",
       "      <td>Alsace</td>\n",
       "      <td>NaN</td>\n",
       "      <td>Roger Voss</td>\n",
       "      <td>@vossroger</td>\n",
       "      <td>Pinot Gris</td>\n",
       "      <td>Domaine Marcel Deiss</td>\n",
       "    </tr>\n",
       "    <tr>\n",
       "      <th>Domaine Schoffit 2012 Lieu-dit Harth Cuvée Caroline Gewurztraminer (Alsace)</th>\n",
       "      <td>France</td>\n",
       "      <td>Big, rich and off-dry, this is powered by inte...</td>\n",
       "      <td>Lieu-dit Harth Cuvée Caroline</td>\n",
       "      <td>90</td>\n",
       "      <td>21.0</td>\n",
       "      <td>Alsace</td>\n",
       "      <td>Alsace</td>\n",
       "      <td>NaN</td>\n",
       "      <td>Roger Voss</td>\n",
       "      <td>@vossroger</td>\n",
       "      <td>Gewürztraminer</td>\n",
       "      <td>Domaine Schoffit</td>\n",
       "    </tr>\n",
       "  </tbody>\n",
       "</table>\n",
       "<p>129971 rows × 12 columns</p>\n",
       "</div>"
      ],
      "text/plain": [
       "                                                     country  \\\n",
       "title                                                          \n",
       "Nicosia 2013 Vulkà Bianco  (Etna)                      Italy   \n",
       "Quinta dos Avidagos 2011 Avidagos Red (Douro)       Portugal   \n",
       "...                                                      ...   \n",
       "Domaine Marcel Deiss 2012 Pinot Gris (Alsace)         France   \n",
       "Domaine Schoffit 2012 Lieu-dit Harth Cuvée Caro...    France   \n",
       "\n",
       "                                                                                          description  \\\n",
       "title                                                                                                   \n",
       "Nicosia 2013 Vulkà Bianco  (Etna)                   Aromas include tropical fruit, broom, brimston...   \n",
       "Quinta dos Avidagos 2011 Avidagos Red (Douro)       This is ripe and fruity, a wine that is smooth...   \n",
       "...                                                                                               ...   \n",
       "Domaine Marcel Deiss 2012 Pinot Gris (Alsace)       A dry style of Pinot Gris, this is crisp with ...   \n",
       "Domaine Schoffit 2012 Lieu-dit Harth Cuvée Caro...  Big, rich and off-dry, this is powered by inte...   \n",
       "\n",
       "                                                                      designation  \\\n",
       "title                                                                               \n",
       "Nicosia 2013 Vulkà Bianco  (Etna)                                    Vulkà Bianco   \n",
       "Quinta dos Avidagos 2011 Avidagos Red (Douro)                            Avidagos   \n",
       "...                                                                           ...   \n",
       "Domaine Marcel Deiss 2012 Pinot Gris (Alsace)                                 NaN   \n",
       "Domaine Schoffit 2012 Lieu-dit Harth Cuvée Caro...  Lieu-dit Harth Cuvée Caroline   \n",
       "\n",
       "                                                    points  price  \\\n",
       "title                                                               \n",
       "Nicosia 2013 Vulkà Bianco  (Etna)                       87    NaN   \n",
       "Quinta dos Avidagos 2011 Avidagos Red (Douro)           87   15.0   \n",
       "...                                                    ...    ...   \n",
       "Domaine Marcel Deiss 2012 Pinot Gris (Alsace)           90   32.0   \n",
       "Domaine Schoffit 2012 Lieu-dit Harth Cuvée Caro...      90   21.0   \n",
       "\n",
       "                                                             province  \\\n",
       "title                                                                   \n",
       "Nicosia 2013 Vulkà Bianco  (Etna)                   Sicily & Sardinia   \n",
       "Quinta dos Avidagos 2011 Avidagos Red (Douro)                   Douro   \n",
       "...                                                               ...   \n",
       "Domaine Marcel Deiss 2012 Pinot Gris (Alsace)                  Alsace   \n",
       "Domaine Schoffit 2012 Lieu-dit Harth Cuvée Caro...             Alsace   \n",
       "\n",
       "                                                   region_1 region_2  \\\n",
       "title                                                                  \n",
       "Nicosia 2013 Vulkà Bianco  (Etna)                      Etna      NaN   \n",
       "Quinta dos Avidagos 2011 Avidagos Red (Douro)           NaN      NaN   \n",
       "...                                                     ...      ...   \n",
       "Domaine Marcel Deiss 2012 Pinot Gris (Alsace)        Alsace      NaN   \n",
       "Domaine Schoffit 2012 Lieu-dit Harth Cuvée Caro...   Alsace      NaN   \n",
       "\n",
       "                                                      taster_name  \\\n",
       "title                                                               \n",
       "Nicosia 2013 Vulkà Bianco  (Etna)                   Kerin O’Keefe   \n",
       "Quinta dos Avidagos 2011 Avidagos Red (Douro)          Roger Voss   \n",
       "...                                                           ...   \n",
       "Domaine Marcel Deiss 2012 Pinot Gris (Alsace)          Roger Voss   \n",
       "Domaine Schoffit 2012 Lieu-dit Harth Cuvée Caro...     Roger Voss   \n",
       "\n",
       "                                                   taster_twitter_handle  \\\n",
       "title                                                                      \n",
       "Nicosia 2013 Vulkà Bianco  (Etna)                           @kerinokeefe   \n",
       "Quinta dos Avidagos 2011 Avidagos Red (Douro)                 @vossroger   \n",
       "...                                                                  ...   \n",
       "Domaine Marcel Deiss 2012 Pinot Gris (Alsace)                 @vossroger   \n",
       "Domaine Schoffit 2012 Lieu-dit Harth Cuvée Caro...            @vossroger   \n",
       "\n",
       "                                                           variety  \\\n",
       "title                                                                \n",
       "Nicosia 2013 Vulkà Bianco  (Etna)                      White Blend   \n",
       "Quinta dos Avidagos 2011 Avidagos Red (Douro)       Portuguese Red   \n",
       "...                                                            ...   \n",
       "Domaine Marcel Deiss 2012 Pinot Gris (Alsace)           Pinot Gris   \n",
       "Domaine Schoffit 2012 Lieu-dit Harth Cuvée Caro...  Gewürztraminer   \n",
       "\n",
       "                                                                  winery  \n",
       "title                                                                     \n",
       "Nicosia 2013 Vulkà Bianco  (Etna)                                Nicosia  \n",
       "Quinta dos Avidagos 2011 Avidagos Red (Douro)        Quinta dos Avidagos  \n",
       "...                                                                  ...  \n",
       "Domaine Marcel Deiss 2012 Pinot Gris (Alsace)       Domaine Marcel Deiss  \n",
       "Domaine Schoffit 2012 Lieu-dit Harth Cuvée Caro...      Domaine Schoffit  \n",
       "\n",
       "[129971 rows x 12 columns]"
      ]
     },
     "execution_count": 14,
     "metadata": {},
     "output_type": "execute_result"
    }
   ],
   "source": [
    "reviews.set_index(\"title\")"
   ]
  },
  {
   "cell_type": "markdown",
   "id": "0b58f7ac",
   "metadata": {
    "papermill": {
     "duration": 0.011604,
     "end_time": "2022-11-06T08:41:51.059467",
     "exception": false,
     "start_time": "2022-11-06T08:41:51.047863",
     "status": "completed"
    },
    "tags": []
   },
   "source": [
    "This is useful if you can come up with an index for the dataset which is better than the current one."
   ]
  },
  {
   "cell_type": "markdown",
   "id": "300fad96",
   "metadata": {
    "papermill": {
     "duration": 0.015663,
     "end_time": "2022-11-06T08:41:51.087174",
     "exception": false,
     "start_time": "2022-11-06T08:41:51.071511",
     "status": "completed"
    },
    "tags": []
   },
   "source": [
    "# Conditional selection\n",
    "\n",
    "So far we've been indexing various strides of data, using structural properties of the DataFrame itself. To do *interesting* things with the data, however, we often need to ask questions based on conditions. \n",
    "\n",
    "For example, suppose that we're interested specifically in better-than-average wines produced in Italy.\n",
    "\n",
    "We can start by checking if each wine is Italian or not:"
   ]
  },
  {
   "cell_type": "code",
   "execution_count": 15,
   "id": "3183b9a4",
   "metadata": {
    "execution": {
     "iopub.execute_input": "2022-11-06T08:41:51.118363Z",
     "iopub.status.busy": "2022-11-06T08:41:51.117425Z",
     "iopub.status.idle": "2022-11-06T08:41:51.139335Z",
     "shell.execute_reply": "2022-11-06T08:41:51.138438Z"
    },
    "papermill": {
     "duration": 0.04037,
     "end_time": "2022-11-06T08:41:51.141848",
     "exception": false,
     "start_time": "2022-11-06T08:41:51.101478",
     "status": "completed"
    },
    "tags": []
   },
   "outputs": [
    {
     "data": {
      "text/plain": [
       "0          True\n",
       "1         False\n",
       "          ...  \n",
       "129969    False\n",
       "129970    False\n",
       "Name: country, Length: 129971, dtype: bool"
      ]
     },
     "execution_count": 15,
     "metadata": {},
     "output_type": "execute_result"
    }
   ],
   "source": [
    "reviews.country == 'Italy'"
   ]
  },
  {
   "cell_type": "markdown",
   "id": "9a5e9084",
   "metadata": {
    "papermill": {
     "duration": 0.012346,
     "end_time": "2022-11-06T08:41:51.167889",
     "exception": false,
     "start_time": "2022-11-06T08:41:51.155543",
     "status": "completed"
    },
    "tags": []
   },
   "source": [
    "This operation produced a Series of `True`/`False` booleans based on the `country` of each record.  This result can then be used inside of `loc` to select the relevant data:"
   ]
  },
  {
   "cell_type": "code",
   "execution_count": 16,
   "id": "c13d04b1",
   "metadata": {
    "execution": {
     "iopub.execute_input": "2022-11-06T08:41:51.194489Z",
     "iopub.status.busy": "2022-11-06T08:41:51.193565Z",
     "iopub.status.idle": "2022-11-06T08:41:51.231159Z",
     "shell.execute_reply": "2022-11-06T08:41:51.230030Z"
    },
    "papermill": {
     "duration": 0.053701,
     "end_time": "2022-11-06T08:41:51.233822",
     "exception": false,
     "start_time": "2022-11-06T08:41:51.180121",
     "status": "completed"
    },
    "tags": []
   },
   "outputs": [
    {
     "data": {
      "text/html": [
       "<div>\n",
       "<style scoped>\n",
       "    .dataframe tbody tr th:only-of-type {\n",
       "        vertical-align: middle;\n",
       "    }\n",
       "\n",
       "    .dataframe tbody tr th {\n",
       "        vertical-align: top;\n",
       "    }\n",
       "\n",
       "    .dataframe thead th {\n",
       "        text-align: right;\n",
       "    }\n",
       "</style>\n",
       "<table border=\"1\" class=\"dataframe\">\n",
       "  <thead>\n",
       "    <tr style=\"text-align: right;\">\n",
       "      <th></th>\n",
       "      <th>country</th>\n",
       "      <th>description</th>\n",
       "      <th>designation</th>\n",
       "      <th>points</th>\n",
       "      <th>price</th>\n",
       "      <th>province</th>\n",
       "      <th>region_1</th>\n",
       "      <th>region_2</th>\n",
       "      <th>taster_name</th>\n",
       "      <th>taster_twitter_handle</th>\n",
       "      <th>title</th>\n",
       "      <th>variety</th>\n",
       "      <th>winery</th>\n",
       "    </tr>\n",
       "  </thead>\n",
       "  <tbody>\n",
       "    <tr>\n",
       "      <th>0</th>\n",
       "      <td>Italy</td>\n",
       "      <td>Aromas include tropical fruit, broom, brimston...</td>\n",
       "      <td>Vulkà Bianco</td>\n",
       "      <td>87</td>\n",
       "      <td>NaN</td>\n",
       "      <td>Sicily &amp; Sardinia</td>\n",
       "      <td>Etna</td>\n",
       "      <td>NaN</td>\n",
       "      <td>Kerin O’Keefe</td>\n",
       "      <td>@kerinokeefe</td>\n",
       "      <td>Nicosia 2013 Vulkà Bianco  (Etna)</td>\n",
       "      <td>White Blend</td>\n",
       "      <td>Nicosia</td>\n",
       "    </tr>\n",
       "    <tr>\n",
       "      <th>6</th>\n",
       "      <td>Italy</td>\n",
       "      <td>Here's a bright, informal red that opens with ...</td>\n",
       "      <td>Belsito</td>\n",
       "      <td>87</td>\n",
       "      <td>16.0</td>\n",
       "      <td>Sicily &amp; Sardinia</td>\n",
       "      <td>Vittoria</td>\n",
       "      <td>NaN</td>\n",
       "      <td>Kerin O’Keefe</td>\n",
       "      <td>@kerinokeefe</td>\n",
       "      <td>Terre di Giurfo 2013 Belsito Frappato (Vittoria)</td>\n",
       "      <td>Frappato</td>\n",
       "      <td>Terre di Giurfo</td>\n",
       "    </tr>\n",
       "    <tr>\n",
       "      <th>...</th>\n",
       "      <td>...</td>\n",
       "      <td>...</td>\n",
       "      <td>...</td>\n",
       "      <td>...</td>\n",
       "      <td>...</td>\n",
       "      <td>...</td>\n",
       "      <td>...</td>\n",
       "      <td>...</td>\n",
       "      <td>...</td>\n",
       "      <td>...</td>\n",
       "      <td>...</td>\n",
       "      <td>...</td>\n",
       "      <td>...</td>\n",
       "    </tr>\n",
       "    <tr>\n",
       "      <th>129961</th>\n",
       "      <td>Italy</td>\n",
       "      <td>Intense aromas of wild cherry, baking spice, t...</td>\n",
       "      <td>NaN</td>\n",
       "      <td>90</td>\n",
       "      <td>30.0</td>\n",
       "      <td>Sicily &amp; Sardinia</td>\n",
       "      <td>Sicilia</td>\n",
       "      <td>NaN</td>\n",
       "      <td>Kerin O’Keefe</td>\n",
       "      <td>@kerinokeefe</td>\n",
       "      <td>COS 2013 Frappato (Sicilia)</td>\n",
       "      <td>Frappato</td>\n",
       "      <td>COS</td>\n",
       "    </tr>\n",
       "    <tr>\n",
       "      <th>129962</th>\n",
       "      <td>Italy</td>\n",
       "      <td>Blackberry, cassis, grilled herb and toasted a...</td>\n",
       "      <td>Sàgana Tenuta San Giacomo</td>\n",
       "      <td>90</td>\n",
       "      <td>40.0</td>\n",
       "      <td>Sicily &amp; Sardinia</td>\n",
       "      <td>Sicilia</td>\n",
       "      <td>NaN</td>\n",
       "      <td>Kerin O’Keefe</td>\n",
       "      <td>@kerinokeefe</td>\n",
       "      <td>Cusumano 2012 Sàgana Tenuta San Giacomo Nero d...</td>\n",
       "      <td>Nero d'Avola</td>\n",
       "      <td>Cusumano</td>\n",
       "    </tr>\n",
       "  </tbody>\n",
       "</table>\n",
       "<p>19540 rows × 13 columns</p>\n",
       "</div>"
      ],
      "text/plain": [
       "       country                                        description  \\\n",
       "0        Italy  Aromas include tropical fruit, broom, brimston...   \n",
       "6        Italy  Here's a bright, informal red that opens with ...   \n",
       "...        ...                                                ...   \n",
       "129961   Italy  Intense aromas of wild cherry, baking spice, t...   \n",
       "129962   Italy  Blackberry, cassis, grilled herb and toasted a...   \n",
       "\n",
       "                      designation  points  price           province  region_1  \\\n",
       "0                    Vulkà Bianco      87    NaN  Sicily & Sardinia      Etna   \n",
       "6                         Belsito      87   16.0  Sicily & Sardinia  Vittoria   \n",
       "...                           ...     ...    ...                ...       ...   \n",
       "129961                        NaN      90   30.0  Sicily & Sardinia   Sicilia   \n",
       "129962  Sàgana Tenuta San Giacomo      90   40.0  Sicily & Sardinia   Sicilia   \n",
       "\n",
       "       region_2    taster_name taster_twitter_handle  \\\n",
       "0           NaN  Kerin O’Keefe          @kerinokeefe   \n",
       "6           NaN  Kerin O’Keefe          @kerinokeefe   \n",
       "...         ...            ...                   ...   \n",
       "129961      NaN  Kerin O’Keefe          @kerinokeefe   \n",
       "129962      NaN  Kerin O’Keefe          @kerinokeefe   \n",
       "\n",
       "                                                    title       variety  \\\n",
       "0                       Nicosia 2013 Vulkà Bianco  (Etna)   White Blend   \n",
       "6        Terre di Giurfo 2013 Belsito Frappato (Vittoria)      Frappato   \n",
       "...                                                   ...           ...   \n",
       "129961                        COS 2013 Frappato (Sicilia)      Frappato   \n",
       "129962  Cusumano 2012 Sàgana Tenuta San Giacomo Nero d...  Nero d'Avola   \n",
       "\n",
       "                 winery  \n",
       "0               Nicosia  \n",
       "6       Terre di Giurfo  \n",
       "...                 ...  \n",
       "129961              COS  \n",
       "129962         Cusumano  \n",
       "\n",
       "[19540 rows x 13 columns]"
      ]
     },
     "execution_count": 16,
     "metadata": {},
     "output_type": "execute_result"
    }
   ],
   "source": [
    "reviews.loc[reviews.country == 'Italy']"
   ]
  },
  {
   "cell_type": "markdown",
   "id": "9ecc775f",
   "metadata": {
    "papermill": {
     "duration": 0.012058,
     "end_time": "2022-11-06T08:41:51.258300",
     "exception": false,
     "start_time": "2022-11-06T08:41:51.246242",
     "status": "completed"
    },
    "tags": []
   },
   "source": [
    "This DataFrame has ~20,000 rows. The original had ~130,000. That means that around 15% of wines originate from Italy.\n",
    "\n",
    "We also wanted to know which ones are better than average. Wines are reviewed on a 80-to-100 point scale, so this could mean wines that accrued at least 90 points.\n",
    "\n",
    "We can use the ampersand (`&`) to bring the two questions together:"
   ]
  },
  {
   "cell_type": "code",
   "execution_count": 17,
   "id": "76d93edb",
   "metadata": {
    "execution": {
     "iopub.execute_input": "2022-11-06T08:41:51.286312Z",
     "iopub.status.busy": "2022-11-06T08:41:51.285894Z",
     "iopub.status.idle": "2022-11-06T08:41:51.321971Z",
     "shell.execute_reply": "2022-11-06T08:41:51.320578Z"
    },
    "papermill": {
     "duration": 0.053321,
     "end_time": "2022-11-06T08:41:51.324539",
     "exception": false,
     "start_time": "2022-11-06T08:41:51.271218",
     "status": "completed"
    },
    "tags": []
   },
   "outputs": [
    {
     "data": {
      "text/html": [
       "<div>\n",
       "<style scoped>\n",
       "    .dataframe tbody tr th:only-of-type {\n",
       "        vertical-align: middle;\n",
       "    }\n",
       "\n",
       "    .dataframe tbody tr th {\n",
       "        vertical-align: top;\n",
       "    }\n",
       "\n",
       "    .dataframe thead th {\n",
       "        text-align: right;\n",
       "    }\n",
       "</style>\n",
       "<table border=\"1\" class=\"dataframe\">\n",
       "  <thead>\n",
       "    <tr style=\"text-align: right;\">\n",
       "      <th></th>\n",
       "      <th>country</th>\n",
       "      <th>description</th>\n",
       "      <th>designation</th>\n",
       "      <th>points</th>\n",
       "      <th>price</th>\n",
       "      <th>province</th>\n",
       "      <th>region_1</th>\n",
       "      <th>region_2</th>\n",
       "      <th>taster_name</th>\n",
       "      <th>taster_twitter_handle</th>\n",
       "      <th>title</th>\n",
       "      <th>variety</th>\n",
       "      <th>winery</th>\n",
       "    </tr>\n",
       "  </thead>\n",
       "  <tbody>\n",
       "    <tr>\n",
       "      <th>120</th>\n",
       "      <td>Italy</td>\n",
       "      <td>Slightly backward, particularly given the vint...</td>\n",
       "      <td>Bricco Rocche Prapó</td>\n",
       "      <td>92</td>\n",
       "      <td>70.0</td>\n",
       "      <td>Piedmont</td>\n",
       "      <td>Barolo</td>\n",
       "      <td>NaN</td>\n",
       "      <td>NaN</td>\n",
       "      <td>NaN</td>\n",
       "      <td>Ceretto 2003 Bricco Rocche Prapó  (Barolo)</td>\n",
       "      <td>Nebbiolo</td>\n",
       "      <td>Ceretto</td>\n",
       "    </tr>\n",
       "    <tr>\n",
       "      <th>130</th>\n",
       "      <td>Italy</td>\n",
       "      <td>At the first it was quite muted and subdued, b...</td>\n",
       "      <td>Bricco Rocche Brunate</td>\n",
       "      <td>91</td>\n",
       "      <td>70.0</td>\n",
       "      <td>Piedmont</td>\n",
       "      <td>Barolo</td>\n",
       "      <td>NaN</td>\n",
       "      <td>NaN</td>\n",
       "      <td>NaN</td>\n",
       "      <td>Ceretto 2003 Bricco Rocche Brunate  (Barolo)</td>\n",
       "      <td>Nebbiolo</td>\n",
       "      <td>Ceretto</td>\n",
       "    </tr>\n",
       "    <tr>\n",
       "      <th>...</th>\n",
       "      <td>...</td>\n",
       "      <td>...</td>\n",
       "      <td>...</td>\n",
       "      <td>...</td>\n",
       "      <td>...</td>\n",
       "      <td>...</td>\n",
       "      <td>...</td>\n",
       "      <td>...</td>\n",
       "      <td>...</td>\n",
       "      <td>...</td>\n",
       "      <td>...</td>\n",
       "      <td>...</td>\n",
       "      <td>...</td>\n",
       "    </tr>\n",
       "    <tr>\n",
       "      <th>129961</th>\n",
       "      <td>Italy</td>\n",
       "      <td>Intense aromas of wild cherry, baking spice, t...</td>\n",
       "      <td>NaN</td>\n",
       "      <td>90</td>\n",
       "      <td>30.0</td>\n",
       "      <td>Sicily &amp; Sardinia</td>\n",
       "      <td>Sicilia</td>\n",
       "      <td>NaN</td>\n",
       "      <td>Kerin O’Keefe</td>\n",
       "      <td>@kerinokeefe</td>\n",
       "      <td>COS 2013 Frappato (Sicilia)</td>\n",
       "      <td>Frappato</td>\n",
       "      <td>COS</td>\n",
       "    </tr>\n",
       "    <tr>\n",
       "      <th>129962</th>\n",
       "      <td>Italy</td>\n",
       "      <td>Blackberry, cassis, grilled herb and toasted a...</td>\n",
       "      <td>Sàgana Tenuta San Giacomo</td>\n",
       "      <td>90</td>\n",
       "      <td>40.0</td>\n",
       "      <td>Sicily &amp; Sardinia</td>\n",
       "      <td>Sicilia</td>\n",
       "      <td>NaN</td>\n",
       "      <td>Kerin O’Keefe</td>\n",
       "      <td>@kerinokeefe</td>\n",
       "      <td>Cusumano 2012 Sàgana Tenuta San Giacomo Nero d...</td>\n",
       "      <td>Nero d'Avola</td>\n",
       "      <td>Cusumano</td>\n",
       "    </tr>\n",
       "  </tbody>\n",
       "</table>\n",
       "<p>6648 rows × 13 columns</p>\n",
       "</div>"
      ],
      "text/plain": [
       "       country                                        description  \\\n",
       "120      Italy  Slightly backward, particularly given the vint...   \n",
       "130      Italy  At the first it was quite muted and subdued, b...   \n",
       "...        ...                                                ...   \n",
       "129961   Italy  Intense aromas of wild cherry, baking spice, t...   \n",
       "129962   Italy  Blackberry, cassis, grilled herb and toasted a...   \n",
       "\n",
       "                      designation  points  price           province region_1  \\\n",
       "120           Bricco Rocche Prapó      92   70.0           Piedmont   Barolo   \n",
       "130         Bricco Rocche Brunate      91   70.0           Piedmont   Barolo   \n",
       "...                           ...     ...    ...                ...      ...   \n",
       "129961                        NaN      90   30.0  Sicily & Sardinia  Sicilia   \n",
       "129962  Sàgana Tenuta San Giacomo      90   40.0  Sicily & Sardinia  Sicilia   \n",
       "\n",
       "       region_2    taster_name taster_twitter_handle  \\\n",
       "120         NaN            NaN                   NaN   \n",
       "130         NaN            NaN                   NaN   \n",
       "...         ...            ...                   ...   \n",
       "129961      NaN  Kerin O’Keefe          @kerinokeefe   \n",
       "129962      NaN  Kerin O’Keefe          @kerinokeefe   \n",
       "\n",
       "                                                    title       variety  \\\n",
       "120            Ceretto 2003 Bricco Rocche Prapó  (Barolo)      Nebbiolo   \n",
       "130          Ceretto 2003 Bricco Rocche Brunate  (Barolo)      Nebbiolo   \n",
       "...                                                   ...           ...   \n",
       "129961                        COS 2013 Frappato (Sicilia)      Frappato   \n",
       "129962  Cusumano 2012 Sàgana Tenuta San Giacomo Nero d...  Nero d'Avola   \n",
       "\n",
       "          winery  \n",
       "120      Ceretto  \n",
       "130      Ceretto  \n",
       "...          ...  \n",
       "129961       COS  \n",
       "129962  Cusumano  \n",
       "\n",
       "[6648 rows x 13 columns]"
      ]
     },
     "execution_count": 17,
     "metadata": {},
     "output_type": "execute_result"
    }
   ],
   "source": [
    "reviews.loc[(reviews.country == 'Italy') & (reviews.points >= 90)]"
   ]
  },
  {
   "cell_type": "markdown",
   "id": "0d3f5481",
   "metadata": {
    "papermill": {
     "duration": 0.012497,
     "end_time": "2022-11-06T08:41:51.349957",
     "exception": false,
     "start_time": "2022-11-06T08:41:51.337460",
     "status": "completed"
    },
    "tags": []
   },
   "source": [
    "Suppose we'll buy any wine that's made in Italy _or_ which is rated above average. For this we use a pipe (`|`):"
   ]
  },
  {
   "cell_type": "code",
   "execution_count": 18,
   "id": "97981f9a",
   "metadata": {
    "execution": {
     "iopub.execute_input": "2022-11-06T08:41:51.377728Z",
     "iopub.status.busy": "2022-11-06T08:41:51.377282Z",
     "iopub.status.idle": "2022-11-06T08:41:51.425894Z",
     "shell.execute_reply": "2022-11-06T08:41:51.424773Z"
    },
    "papermill": {
     "duration": 0.065612,
     "end_time": "2022-11-06T08:41:51.428424",
     "exception": false,
     "start_time": "2022-11-06T08:41:51.362812",
     "status": "completed"
    },
    "tags": []
   },
   "outputs": [
    {
     "data": {
      "text/html": [
       "<div>\n",
       "<style scoped>\n",
       "    .dataframe tbody tr th:only-of-type {\n",
       "        vertical-align: middle;\n",
       "    }\n",
       "\n",
       "    .dataframe tbody tr th {\n",
       "        vertical-align: top;\n",
       "    }\n",
       "\n",
       "    .dataframe thead th {\n",
       "        text-align: right;\n",
       "    }\n",
       "</style>\n",
       "<table border=\"1\" class=\"dataframe\">\n",
       "  <thead>\n",
       "    <tr style=\"text-align: right;\">\n",
       "      <th></th>\n",
       "      <th>country</th>\n",
       "      <th>description</th>\n",
       "      <th>designation</th>\n",
       "      <th>points</th>\n",
       "      <th>price</th>\n",
       "      <th>province</th>\n",
       "      <th>region_1</th>\n",
       "      <th>region_2</th>\n",
       "      <th>taster_name</th>\n",
       "      <th>taster_twitter_handle</th>\n",
       "      <th>title</th>\n",
       "      <th>variety</th>\n",
       "      <th>winery</th>\n",
       "    </tr>\n",
       "  </thead>\n",
       "  <tbody>\n",
       "    <tr>\n",
       "      <th>0</th>\n",
       "      <td>Italy</td>\n",
       "      <td>Aromas include tropical fruit, broom, brimston...</td>\n",
       "      <td>Vulkà Bianco</td>\n",
       "      <td>87</td>\n",
       "      <td>NaN</td>\n",
       "      <td>Sicily &amp; Sardinia</td>\n",
       "      <td>Etna</td>\n",
       "      <td>NaN</td>\n",
       "      <td>Kerin O’Keefe</td>\n",
       "      <td>@kerinokeefe</td>\n",
       "      <td>Nicosia 2013 Vulkà Bianco  (Etna)</td>\n",
       "      <td>White Blend</td>\n",
       "      <td>Nicosia</td>\n",
       "    </tr>\n",
       "    <tr>\n",
       "      <th>6</th>\n",
       "      <td>Italy</td>\n",
       "      <td>Here's a bright, informal red that opens with ...</td>\n",
       "      <td>Belsito</td>\n",
       "      <td>87</td>\n",
       "      <td>16.0</td>\n",
       "      <td>Sicily &amp; Sardinia</td>\n",
       "      <td>Vittoria</td>\n",
       "      <td>NaN</td>\n",
       "      <td>Kerin O’Keefe</td>\n",
       "      <td>@kerinokeefe</td>\n",
       "      <td>Terre di Giurfo 2013 Belsito Frappato (Vittoria)</td>\n",
       "      <td>Frappato</td>\n",
       "      <td>Terre di Giurfo</td>\n",
       "    </tr>\n",
       "    <tr>\n",
       "      <th>...</th>\n",
       "      <td>...</td>\n",
       "      <td>...</td>\n",
       "      <td>...</td>\n",
       "      <td>...</td>\n",
       "      <td>...</td>\n",
       "      <td>...</td>\n",
       "      <td>...</td>\n",
       "      <td>...</td>\n",
       "      <td>...</td>\n",
       "      <td>...</td>\n",
       "      <td>...</td>\n",
       "      <td>...</td>\n",
       "      <td>...</td>\n",
       "    </tr>\n",
       "    <tr>\n",
       "      <th>129969</th>\n",
       "      <td>France</td>\n",
       "      <td>A dry style of Pinot Gris, this is crisp with ...</td>\n",
       "      <td>NaN</td>\n",
       "      <td>90</td>\n",
       "      <td>32.0</td>\n",
       "      <td>Alsace</td>\n",
       "      <td>Alsace</td>\n",
       "      <td>NaN</td>\n",
       "      <td>Roger Voss</td>\n",
       "      <td>@vossroger</td>\n",
       "      <td>Domaine Marcel Deiss 2012 Pinot Gris (Alsace)</td>\n",
       "      <td>Pinot Gris</td>\n",
       "      <td>Domaine Marcel Deiss</td>\n",
       "    </tr>\n",
       "    <tr>\n",
       "      <th>129970</th>\n",
       "      <td>France</td>\n",
       "      <td>Big, rich and off-dry, this is powered by inte...</td>\n",
       "      <td>Lieu-dit Harth Cuvée Caroline</td>\n",
       "      <td>90</td>\n",
       "      <td>21.0</td>\n",
       "      <td>Alsace</td>\n",
       "      <td>Alsace</td>\n",
       "      <td>NaN</td>\n",
       "      <td>Roger Voss</td>\n",
       "      <td>@vossroger</td>\n",
       "      <td>Domaine Schoffit 2012 Lieu-dit Harth Cuvée Car...</td>\n",
       "      <td>Gewürztraminer</td>\n",
       "      <td>Domaine Schoffit</td>\n",
       "    </tr>\n",
       "  </tbody>\n",
       "</table>\n",
       "<p>61937 rows × 13 columns</p>\n",
       "</div>"
      ],
      "text/plain": [
       "       country                                        description  \\\n",
       "0        Italy  Aromas include tropical fruit, broom, brimston...   \n",
       "6        Italy  Here's a bright, informal red that opens with ...   \n",
       "...        ...                                                ...   \n",
       "129969  France  A dry style of Pinot Gris, this is crisp with ...   \n",
       "129970  France  Big, rich and off-dry, this is powered by inte...   \n",
       "\n",
       "                          designation  points  price           province  \\\n",
       "0                        Vulkà Bianco      87    NaN  Sicily & Sardinia   \n",
       "6                             Belsito      87   16.0  Sicily & Sardinia   \n",
       "...                               ...     ...    ...                ...   \n",
       "129969                            NaN      90   32.0             Alsace   \n",
       "129970  Lieu-dit Harth Cuvée Caroline      90   21.0             Alsace   \n",
       "\n",
       "        region_1 region_2    taster_name taster_twitter_handle  \\\n",
       "0           Etna      NaN  Kerin O’Keefe          @kerinokeefe   \n",
       "6       Vittoria      NaN  Kerin O’Keefe          @kerinokeefe   \n",
       "...          ...      ...            ...                   ...   \n",
       "129969    Alsace      NaN     Roger Voss            @vossroger   \n",
       "129970    Alsace      NaN     Roger Voss            @vossroger   \n",
       "\n",
       "                                                    title         variety  \\\n",
       "0                       Nicosia 2013 Vulkà Bianco  (Etna)     White Blend   \n",
       "6        Terre di Giurfo 2013 Belsito Frappato (Vittoria)        Frappato   \n",
       "...                                                   ...             ...   \n",
       "129969      Domaine Marcel Deiss 2012 Pinot Gris (Alsace)      Pinot Gris   \n",
       "129970  Domaine Schoffit 2012 Lieu-dit Harth Cuvée Car...  Gewürztraminer   \n",
       "\n",
       "                      winery  \n",
       "0                    Nicosia  \n",
       "6            Terre di Giurfo  \n",
       "...                      ...  \n",
       "129969  Domaine Marcel Deiss  \n",
       "129970      Domaine Schoffit  \n",
       "\n",
       "[61937 rows x 13 columns]"
      ]
     },
     "execution_count": 18,
     "metadata": {},
     "output_type": "execute_result"
    }
   ],
   "source": [
    "reviews.loc[(reviews.country == 'Italy') | (reviews.points >= 90)]"
   ]
  },
  {
   "cell_type": "markdown",
   "id": "fa0bea87",
   "metadata": {
    "papermill": {
     "duration": 0.012913,
     "end_time": "2022-11-06T08:41:51.454792",
     "exception": false,
     "start_time": "2022-11-06T08:41:51.441879",
     "status": "completed"
    },
    "tags": []
   },
   "source": [
    "Pandas comes with a few built-in conditional selectors, two of which we will highlight here. \n",
    "\n",
    "The first is `isin`. `isin` is lets you select data whose value \"is in\" a list of values. For example, here's how we can use it to select wines only from Italy or France:"
   ]
  },
  {
   "cell_type": "code",
   "execution_count": 19,
   "id": "356f4ecd",
   "metadata": {
    "execution": {
     "iopub.execute_input": "2022-11-06T08:41:51.482891Z",
     "iopub.status.busy": "2022-11-06T08:41:51.482444Z",
     "iopub.status.idle": "2022-11-06T08:41:51.521059Z",
     "shell.execute_reply": "2022-11-06T08:41:51.519893Z"
    },
    "papermill": {
     "duration": 0.055525,
     "end_time": "2022-11-06T08:41:51.523510",
     "exception": false,
     "start_time": "2022-11-06T08:41:51.467985",
     "status": "completed"
    },
    "tags": []
   },
   "outputs": [
    {
     "data": {
      "text/html": [
       "<div>\n",
       "<style scoped>\n",
       "    .dataframe tbody tr th:only-of-type {\n",
       "        vertical-align: middle;\n",
       "    }\n",
       "\n",
       "    .dataframe tbody tr th {\n",
       "        vertical-align: top;\n",
       "    }\n",
       "\n",
       "    .dataframe thead th {\n",
       "        text-align: right;\n",
       "    }\n",
       "</style>\n",
       "<table border=\"1\" class=\"dataframe\">\n",
       "  <thead>\n",
       "    <tr style=\"text-align: right;\">\n",
       "      <th></th>\n",
       "      <th>country</th>\n",
       "      <th>description</th>\n",
       "      <th>designation</th>\n",
       "      <th>points</th>\n",
       "      <th>price</th>\n",
       "      <th>province</th>\n",
       "      <th>region_1</th>\n",
       "      <th>region_2</th>\n",
       "      <th>taster_name</th>\n",
       "      <th>taster_twitter_handle</th>\n",
       "      <th>title</th>\n",
       "      <th>variety</th>\n",
       "      <th>winery</th>\n",
       "    </tr>\n",
       "  </thead>\n",
       "  <tbody>\n",
       "    <tr>\n",
       "      <th>0</th>\n",
       "      <td>Italy</td>\n",
       "      <td>Aromas include tropical fruit, broom, brimston...</td>\n",
       "      <td>Vulkà Bianco</td>\n",
       "      <td>87</td>\n",
       "      <td>NaN</td>\n",
       "      <td>Sicily &amp; Sardinia</td>\n",
       "      <td>Etna</td>\n",
       "      <td>NaN</td>\n",
       "      <td>Kerin O’Keefe</td>\n",
       "      <td>@kerinokeefe</td>\n",
       "      <td>Nicosia 2013 Vulkà Bianco  (Etna)</td>\n",
       "      <td>White Blend</td>\n",
       "      <td>Nicosia</td>\n",
       "    </tr>\n",
       "    <tr>\n",
       "      <th>6</th>\n",
       "      <td>Italy</td>\n",
       "      <td>Here's a bright, informal red that opens with ...</td>\n",
       "      <td>Belsito</td>\n",
       "      <td>87</td>\n",
       "      <td>16.0</td>\n",
       "      <td>Sicily &amp; Sardinia</td>\n",
       "      <td>Vittoria</td>\n",
       "      <td>NaN</td>\n",
       "      <td>Kerin O’Keefe</td>\n",
       "      <td>@kerinokeefe</td>\n",
       "      <td>Terre di Giurfo 2013 Belsito Frappato (Vittoria)</td>\n",
       "      <td>Frappato</td>\n",
       "      <td>Terre di Giurfo</td>\n",
       "    </tr>\n",
       "    <tr>\n",
       "      <th>...</th>\n",
       "      <td>...</td>\n",
       "      <td>...</td>\n",
       "      <td>...</td>\n",
       "      <td>...</td>\n",
       "      <td>...</td>\n",
       "      <td>...</td>\n",
       "      <td>...</td>\n",
       "      <td>...</td>\n",
       "      <td>...</td>\n",
       "      <td>...</td>\n",
       "      <td>...</td>\n",
       "      <td>...</td>\n",
       "      <td>...</td>\n",
       "    </tr>\n",
       "    <tr>\n",
       "      <th>129969</th>\n",
       "      <td>France</td>\n",
       "      <td>A dry style of Pinot Gris, this is crisp with ...</td>\n",
       "      <td>NaN</td>\n",
       "      <td>90</td>\n",
       "      <td>32.0</td>\n",
       "      <td>Alsace</td>\n",
       "      <td>Alsace</td>\n",
       "      <td>NaN</td>\n",
       "      <td>Roger Voss</td>\n",
       "      <td>@vossroger</td>\n",
       "      <td>Domaine Marcel Deiss 2012 Pinot Gris (Alsace)</td>\n",
       "      <td>Pinot Gris</td>\n",
       "      <td>Domaine Marcel Deiss</td>\n",
       "    </tr>\n",
       "    <tr>\n",
       "      <th>129970</th>\n",
       "      <td>France</td>\n",
       "      <td>Big, rich and off-dry, this is powered by inte...</td>\n",
       "      <td>Lieu-dit Harth Cuvée Caroline</td>\n",
       "      <td>90</td>\n",
       "      <td>21.0</td>\n",
       "      <td>Alsace</td>\n",
       "      <td>Alsace</td>\n",
       "      <td>NaN</td>\n",
       "      <td>Roger Voss</td>\n",
       "      <td>@vossroger</td>\n",
       "      <td>Domaine Schoffit 2012 Lieu-dit Harth Cuvée Car...</td>\n",
       "      <td>Gewürztraminer</td>\n",
       "      <td>Domaine Schoffit</td>\n",
       "    </tr>\n",
       "  </tbody>\n",
       "</table>\n",
       "<p>41633 rows × 13 columns</p>\n",
       "</div>"
      ],
      "text/plain": [
       "       country                                        description  \\\n",
       "0        Italy  Aromas include tropical fruit, broom, brimston...   \n",
       "6        Italy  Here's a bright, informal red that opens with ...   \n",
       "...        ...                                                ...   \n",
       "129969  France  A dry style of Pinot Gris, this is crisp with ...   \n",
       "129970  France  Big, rich and off-dry, this is powered by inte...   \n",
       "\n",
       "                          designation  points  price           province  \\\n",
       "0                        Vulkà Bianco      87    NaN  Sicily & Sardinia   \n",
       "6                             Belsito      87   16.0  Sicily & Sardinia   \n",
       "...                               ...     ...    ...                ...   \n",
       "129969                            NaN      90   32.0             Alsace   \n",
       "129970  Lieu-dit Harth Cuvée Caroline      90   21.0             Alsace   \n",
       "\n",
       "        region_1 region_2    taster_name taster_twitter_handle  \\\n",
       "0           Etna      NaN  Kerin O’Keefe          @kerinokeefe   \n",
       "6       Vittoria      NaN  Kerin O’Keefe          @kerinokeefe   \n",
       "...          ...      ...            ...                   ...   \n",
       "129969    Alsace      NaN     Roger Voss            @vossroger   \n",
       "129970    Alsace      NaN     Roger Voss            @vossroger   \n",
       "\n",
       "                                                    title         variety  \\\n",
       "0                       Nicosia 2013 Vulkà Bianco  (Etna)     White Blend   \n",
       "6        Terre di Giurfo 2013 Belsito Frappato (Vittoria)        Frappato   \n",
       "...                                                   ...             ...   \n",
       "129969      Domaine Marcel Deiss 2012 Pinot Gris (Alsace)      Pinot Gris   \n",
       "129970  Domaine Schoffit 2012 Lieu-dit Harth Cuvée Car...  Gewürztraminer   \n",
       "\n",
       "                      winery  \n",
       "0                    Nicosia  \n",
       "6            Terre di Giurfo  \n",
       "...                      ...  \n",
       "129969  Domaine Marcel Deiss  \n",
       "129970      Domaine Schoffit  \n",
       "\n",
       "[41633 rows x 13 columns]"
      ]
     },
     "execution_count": 19,
     "metadata": {},
     "output_type": "execute_result"
    }
   ],
   "source": [
    "reviews.loc[reviews.country.isin(['Italy', 'France'])]"
   ]
  },
  {
   "cell_type": "markdown",
   "id": "2cd1257d",
   "metadata": {
    "papermill": {
     "duration": 0.013298,
     "end_time": "2022-11-06T08:41:51.550463",
     "exception": false,
     "start_time": "2022-11-06T08:41:51.537165",
     "status": "completed"
    },
    "tags": []
   },
   "source": [
    "The second is `isnull` (and its companion `notnull`). These methods let you highlight values which are (or are not) empty (`NaN`). For example, to filter out wines lacking a price tag in the dataset, here's what we would do:"
   ]
  },
  {
   "cell_type": "code",
   "execution_count": 20,
   "id": "92419ce6",
   "metadata": {
    "execution": {
     "iopub.execute_input": "2022-11-06T08:41:51.579187Z",
     "iopub.status.busy": "2022-11-06T08:41:51.578768Z",
     "iopub.status.idle": "2022-11-06T08:41:51.631699Z",
     "shell.execute_reply": "2022-11-06T08:41:51.630500Z"
    },
    "papermill": {
     "duration": 0.070327,
     "end_time": "2022-11-06T08:41:51.634270",
     "exception": false,
     "start_time": "2022-11-06T08:41:51.563943",
     "status": "completed"
    },
    "tags": []
   },
   "outputs": [
    {
     "data": {
      "text/html": [
       "<div>\n",
       "<style scoped>\n",
       "    .dataframe tbody tr th:only-of-type {\n",
       "        vertical-align: middle;\n",
       "    }\n",
       "\n",
       "    .dataframe tbody tr th {\n",
       "        vertical-align: top;\n",
       "    }\n",
       "\n",
       "    .dataframe thead th {\n",
       "        text-align: right;\n",
       "    }\n",
       "</style>\n",
       "<table border=\"1\" class=\"dataframe\">\n",
       "  <thead>\n",
       "    <tr style=\"text-align: right;\">\n",
       "      <th></th>\n",
       "      <th>country</th>\n",
       "      <th>description</th>\n",
       "      <th>designation</th>\n",
       "      <th>points</th>\n",
       "      <th>price</th>\n",
       "      <th>province</th>\n",
       "      <th>region_1</th>\n",
       "      <th>region_2</th>\n",
       "      <th>taster_name</th>\n",
       "      <th>taster_twitter_handle</th>\n",
       "      <th>title</th>\n",
       "      <th>variety</th>\n",
       "      <th>winery</th>\n",
       "    </tr>\n",
       "  </thead>\n",
       "  <tbody>\n",
       "    <tr>\n",
       "      <th>1</th>\n",
       "      <td>Portugal</td>\n",
       "      <td>This is ripe and fruity, a wine that is smooth...</td>\n",
       "      <td>Avidagos</td>\n",
       "      <td>87</td>\n",
       "      <td>15.0</td>\n",
       "      <td>Douro</td>\n",
       "      <td>NaN</td>\n",
       "      <td>NaN</td>\n",
       "      <td>Roger Voss</td>\n",
       "      <td>@vossroger</td>\n",
       "      <td>Quinta dos Avidagos 2011 Avidagos Red (Douro)</td>\n",
       "      <td>Portuguese Red</td>\n",
       "      <td>Quinta dos Avidagos</td>\n",
       "    </tr>\n",
       "    <tr>\n",
       "      <th>2</th>\n",
       "      <td>US</td>\n",
       "      <td>Tart and snappy, the flavors of lime flesh and...</td>\n",
       "      <td>NaN</td>\n",
       "      <td>87</td>\n",
       "      <td>14.0</td>\n",
       "      <td>Oregon</td>\n",
       "      <td>Willamette Valley</td>\n",
       "      <td>Willamette Valley</td>\n",
       "      <td>Paul Gregutt</td>\n",
       "      <td>@paulgwine</td>\n",
       "      <td>Rainstorm 2013 Pinot Gris (Willamette Valley)</td>\n",
       "      <td>Pinot Gris</td>\n",
       "      <td>Rainstorm</td>\n",
       "    </tr>\n",
       "    <tr>\n",
       "      <th>...</th>\n",
       "      <td>...</td>\n",
       "      <td>...</td>\n",
       "      <td>...</td>\n",
       "      <td>...</td>\n",
       "      <td>...</td>\n",
       "      <td>...</td>\n",
       "      <td>...</td>\n",
       "      <td>...</td>\n",
       "      <td>...</td>\n",
       "      <td>...</td>\n",
       "      <td>...</td>\n",
       "      <td>...</td>\n",
       "      <td>...</td>\n",
       "    </tr>\n",
       "    <tr>\n",
       "      <th>129969</th>\n",
       "      <td>France</td>\n",
       "      <td>A dry style of Pinot Gris, this is crisp with ...</td>\n",
       "      <td>NaN</td>\n",
       "      <td>90</td>\n",
       "      <td>32.0</td>\n",
       "      <td>Alsace</td>\n",
       "      <td>Alsace</td>\n",
       "      <td>NaN</td>\n",
       "      <td>Roger Voss</td>\n",
       "      <td>@vossroger</td>\n",
       "      <td>Domaine Marcel Deiss 2012 Pinot Gris (Alsace)</td>\n",
       "      <td>Pinot Gris</td>\n",
       "      <td>Domaine Marcel Deiss</td>\n",
       "    </tr>\n",
       "    <tr>\n",
       "      <th>129970</th>\n",
       "      <td>France</td>\n",
       "      <td>Big, rich and off-dry, this is powered by inte...</td>\n",
       "      <td>Lieu-dit Harth Cuvée Caroline</td>\n",
       "      <td>90</td>\n",
       "      <td>21.0</td>\n",
       "      <td>Alsace</td>\n",
       "      <td>Alsace</td>\n",
       "      <td>NaN</td>\n",
       "      <td>Roger Voss</td>\n",
       "      <td>@vossroger</td>\n",
       "      <td>Domaine Schoffit 2012 Lieu-dit Harth Cuvée Car...</td>\n",
       "      <td>Gewürztraminer</td>\n",
       "      <td>Domaine Schoffit</td>\n",
       "    </tr>\n",
       "  </tbody>\n",
       "</table>\n",
       "<p>120975 rows × 13 columns</p>\n",
       "</div>"
      ],
      "text/plain": [
       "         country                                        description  \\\n",
       "1       Portugal  This is ripe and fruity, a wine that is smooth...   \n",
       "2             US  Tart and snappy, the flavors of lime flesh and...   \n",
       "...          ...                                                ...   \n",
       "129969    France  A dry style of Pinot Gris, this is crisp with ...   \n",
       "129970    France  Big, rich and off-dry, this is powered by inte...   \n",
       "\n",
       "                          designation  points  price province  \\\n",
       "1                            Avidagos      87   15.0    Douro   \n",
       "2                                 NaN      87   14.0   Oregon   \n",
       "...                               ...     ...    ...      ...   \n",
       "129969                            NaN      90   32.0   Alsace   \n",
       "129970  Lieu-dit Harth Cuvée Caroline      90   21.0   Alsace   \n",
       "\n",
       "                 region_1           region_2   taster_name  \\\n",
       "1                     NaN                NaN    Roger Voss   \n",
       "2       Willamette Valley  Willamette Valley  Paul Gregutt   \n",
       "...                   ...                ...           ...   \n",
       "129969             Alsace                NaN    Roger Voss   \n",
       "129970             Alsace                NaN    Roger Voss   \n",
       "\n",
       "       taster_twitter_handle  \\\n",
       "1                 @vossroger   \n",
       "2                @paulgwine    \n",
       "...                      ...   \n",
       "129969            @vossroger   \n",
       "129970            @vossroger   \n",
       "\n",
       "                                                    title         variety  \\\n",
       "1           Quinta dos Avidagos 2011 Avidagos Red (Douro)  Portuguese Red   \n",
       "2           Rainstorm 2013 Pinot Gris (Willamette Valley)      Pinot Gris   \n",
       "...                                                   ...             ...   \n",
       "129969      Domaine Marcel Deiss 2012 Pinot Gris (Alsace)      Pinot Gris   \n",
       "129970  Domaine Schoffit 2012 Lieu-dit Harth Cuvée Car...  Gewürztraminer   \n",
       "\n",
       "                      winery  \n",
       "1        Quinta dos Avidagos  \n",
       "2                  Rainstorm  \n",
       "...                      ...  \n",
       "129969  Domaine Marcel Deiss  \n",
       "129970      Domaine Schoffit  \n",
       "\n",
       "[120975 rows x 13 columns]"
      ]
     },
     "execution_count": 20,
     "metadata": {},
     "output_type": "execute_result"
    }
   ],
   "source": [
    "reviews.loc[reviews.price.notnull()]"
   ]
  },
  {
   "cell_type": "markdown",
   "id": "e560ad1c",
   "metadata": {
    "papermill": {
     "duration": 0.013863,
     "end_time": "2022-11-06T08:41:51.662451",
     "exception": false,
     "start_time": "2022-11-06T08:41:51.648588",
     "status": "completed"
    },
    "tags": []
   },
   "source": [
    "# Assigning data\n",
    "\n",
    "Going the other way, assigning data to a DataFrame is easy. You can assign either a constant value:"
   ]
  },
  {
   "cell_type": "code",
   "execution_count": 21,
   "id": "895479d8",
   "metadata": {
    "execution": {
     "iopub.execute_input": "2022-11-06T08:41:51.693627Z",
     "iopub.status.busy": "2022-11-06T08:41:51.692672Z",
     "iopub.status.idle": "2022-11-06T08:41:51.704916Z",
     "shell.execute_reply": "2022-11-06T08:41:51.703611Z"
    },
    "papermill": {
     "duration": 0.030526,
     "end_time": "2022-11-06T08:41:51.707273",
     "exception": false,
     "start_time": "2022-11-06T08:41:51.676747",
     "status": "completed"
    },
    "tags": []
   },
   "outputs": [
    {
     "data": {
      "text/plain": [
       "0         everyone\n",
       "1         everyone\n",
       "            ...   \n",
       "129969    everyone\n",
       "129970    everyone\n",
       "Name: critic, Length: 129971, dtype: object"
      ]
     },
     "execution_count": 21,
     "metadata": {},
     "output_type": "execute_result"
    }
   ],
   "source": [
    "reviews['critic'] = 'everyone'\n",
    "reviews['critic']"
   ]
  },
  {
   "cell_type": "markdown",
   "id": "c633aa2a",
   "metadata": {
    "papermill": {
     "duration": 0.013763,
     "end_time": "2022-11-06T08:41:51.735006",
     "exception": false,
     "start_time": "2022-11-06T08:41:51.721243",
     "status": "completed"
    },
    "tags": []
   },
   "source": [
    "Or with an iterable of values:"
   ]
  },
  {
   "cell_type": "code",
   "execution_count": 22,
   "id": "844d5cf8",
   "metadata": {
    "execution": {
     "iopub.execute_input": "2022-11-06T08:41:51.765195Z",
     "iopub.status.busy": "2022-11-06T08:41:51.764482Z",
     "iopub.status.idle": "2022-11-06T08:41:51.775412Z",
     "shell.execute_reply": "2022-11-06T08:41:51.774335Z"
    },
    "papermill": {
     "duration": 0.028713,
     "end_time": "2022-11-06T08:41:51.777865",
     "exception": false,
     "start_time": "2022-11-06T08:41:51.749152",
     "status": "completed"
    },
    "tags": []
   },
   "outputs": [
    {
     "data": {
      "text/plain": [
       "0         129971\n",
       "1         129970\n",
       "           ...  \n",
       "129969         2\n",
       "129970         1\n",
       "Name: index_backwards, Length: 129971, dtype: int64"
      ]
     },
     "execution_count": 22,
     "metadata": {},
     "output_type": "execute_result"
    }
   ],
   "source": [
    "reviews['index_backwards'] = range(len(reviews), 0, -1)\n",
    "reviews['index_backwards']"
   ]
  },
  {
   "cell_type": "markdown",
   "id": "f1dfc2fc",
   "metadata": {
    "papermill": {
     "duration": 0.013649,
     "end_time": "2022-11-06T08:41:51.805597",
     "exception": false,
     "start_time": "2022-11-06T08:41:51.791948",
     "status": "completed"
    },
    "tags": []
   },
   "source": [
    "# Your turn\n",
    "\n",
    "If you haven't started the exercise, you can **[get started here](https://www.kaggle.com/kernels/fork/587910)**."
   ]
  },
  {
   "cell_type": "markdown",
   "id": "88546b87",
   "metadata": {
    "papermill": {
     "duration": 0.01372,
     "end_time": "2022-11-06T08:41:51.833244",
     "exception": false,
     "start_time": "2022-11-06T08:41:51.819524",
     "status": "completed"
    },
    "tags": []
   },
   "source": [
    "---\n",
    "\n",
    "\n",
    "\n",
    "\n",
    "*Have questions or comments? Visit the [course discussion forum](https://www.kaggle.com/learn/pandas/discussion) to chat with other learners.*"
   ]
  }
 ],
 "metadata": {
  "kernelspec": {
   "display_name": "Python 3",
   "language": "python",
   "name": "python3"
  },
  "language_info": {
   "codemirror_mode": {
    "name": "ipython",
    "version": 3
   },
   "file_extension": ".py",
   "mimetype": "text/x-python",
   "name": "python",
   "nbconvert_exporter": "python",
   "pygments_lexer": "ipython3",
   "version": "3.7.12"
  },
  "papermill": {
   "default_parameters": {},
   "duration": 12.767436,
   "end_time": "2022-11-06T08:41:52.569251",
   "environment_variables": {},
   "exception": null,
   "input_path": "__notebook__.ipynb",
   "output_path": "__notebook__.ipynb",
   "parameters": {},
   "start_time": "2022-11-06T08:41:39.801815",
   "version": "2.3.4"
  }
 },
 "nbformat": 4,
 "nbformat_minor": 5
}
